{
  "cells": [
    {
      "cell_type": "markdown",
      "metadata": {
        "id": "jHaAX6XIJR9j"
      },
      "source": [
        "## CSCE 676 :: Data Mining and Analysis :: Texas A&M University :: Spring 2022\n",
        "\n",
        "\n",
        "# Homework 3\n",
        "\n",
        "- **100 points [7% of your final grade]**\n",
        "- **Due April 10, 2022 by 11:59pm**\n",
        "\n",
        "*Goals of this homework:* In this homework, you will investigate data visualization and the foundations of recommendation.\n",
        "\n",
        "\n",
        "\n",
        "*Submission instructions:* This homework is a bit different from the previous ones. For the visualizatin component, you will post to Campuswire. See below for details. For the recommendation component, rename this notebook as `UIN_hw3.ipynb`. For example, if your UIN is `123456789`, then your homework submission would be `123456789_hw2.ipynb`. Submit this notebook via Canvas. Your notebook should be completely self-contained, with the results visible in the notebook. We should not have to run any code from the command line, nor should we have to run your code within the notebook (though we reserve the right to do so). So please run all the cells for us, and then submit. \n",
        "\n",
        "*Late policy:* No late days for the data visualization. For the recommendaiton, you may use up to three of your late days. No homeworks will be accepted after April 13 11:59pm."
      ]
    },
    {
      "cell_type": "markdown",
      "metadata": {
        "id": "37SaWm5NyuL8"
      },
      "source": [
        "## Collaboration Declaration:\n",
        "\n",
        "***You must add all of your collaboration declarations here. Who did you talk to about this assignment? What web resources did you use? Etc.***\n",
        "\n",
        "For example:\n",
        "* Part 3a: I talked to Amy about how to split the data randomly. She helped me understand that I needed to use a random number generator.\n",
        "* Part 3b: I needed help on how to comment my code, so I relied on this StackOverflow thread: https://stackoverflow.com/questions/184618/what-is-the-best-comment-in-source-code-you-have-ever-encountered\n",
        "* (Replace this bullet list with your own collaboration declarations.)\n"
      ]
    },
    {
      "cell_type": "markdown",
      "metadata": {
        "id": "Bvb4mxbhJR9l"
      },
      "source": [
        "## (30 points) Part 1: Data Visualization (submit to Campuswire, no late days)\n",
        "\n",
        "For this first part, you will create a data visualization based on an exploration of a dataset we provide. Your visualization should capture Tufte's principles of graphical excellence: \"complex ideas communicated with clarity, precision, and efficiency.\"\n",
        "\n",
        "### The Data\n",
        "You must choose one of the following datasets:\n",
        "\n",
        "* Police Shootings: The Washington Post's database contains records of every fatal shooting in the United States by a police officer in the line of duty since Jan. 1, 2015\n",
        "    * [data](https://github.com/washingtonpost/data-police-shootings)\n",
        "    * [website](https://www.washingtonpost.com/graphics/investigations/police-shootings-database/) (including some example charts)\n",
        "\n",
        "* Bike Sharing: This dataset contains the hourly and daily count of rental bikes between years 2011 and 2012 in Capital bikeshare system with the corresponding weather and seasonal information.\n",
        "    * [data](https://archive.ics.uci.edu/ml/datasets/bike+sharing+dataset)\n",
        "\n",
        "* Tennis Time: A dataset of tennis players and how much time they take.\n",
        "    * [data](https://github.com/fivethirtyeight/data/tree/master/tennis-time)\n",
        "    * [article](https://fivethirtyeight.com/features/why-some-tennis-matches-take-forever/)\n",
        "\n",
        "### Your Goal\n",
        "1. Identify an interesting story or insight from this data\n",
        "2. Carefully design a data visualization that communicates this story.\n",
        "\n",
        "You may assume that your audience is the **general public.**\n",
        "\n",
        "You may clean, manipulate, and transform the data as you like. You are free to use external data from whatever sources you like. (But be sure to cite them!). Feel free to use as little or as much data as you like, so long as the story (and associated data visualization are compelling). \n",
        "\n",
        "\n",
        "### What to Submit\n",
        "\n",
        "Utimately you should produce:\n",
        "\n",
        "\n",
        "1. A single image (e.g., PNG, PDF, JPG) that effectively communicates the data. You must use a Python visualization toolkit as your key tool, but you are welcome to augment with other tools if you like (e.g., Photoshop, MS Paint, GIMP). For Python viz tools, you may use matplotlib, plotly, seaborn, geoplotlib, bokeh, networkx, or whatever else you can find.\n",
        "    \n",
        "2. A brief explanation describing your design. (a few paragraphs, 1/2 page or so).\n",
        "\n",
        "Your explanation should justify the design choices you have made. \n",
        "\n",
        "* Why did you choose the particular visualization type? \n",
        "* What motivated your choice of size, color,\n",
        "and scale? \n",
        "* Why are they appropriate for what you are trying to communicate?\n",
        "* Additionally, your explanation should document:\n",
        "    * What you are trying to\n",
        "communicate\n",
        "    * The benefits of your choice of visualization\n",
        "    * As well as any downsides\n",
        "to your viz (e.g., are certain connections downplayed due to your choices?).\n",
        "\n",
        "### How to Submit\n",
        "You should post your image + explanation to Campuswire by April 10 (no late days)."
      ]
    },
    {
      "cell_type": "code",
      "execution_count": null,
      "metadata": {
        "colab": {
          "base_uri": "https://localhost:8080/"
        },
        "id": "UPZPgU9Py-EQ",
        "outputId": "cceb5788-eac4-4be6-bf79-87a72f6717e2"
      },
      "outputs": [
        {
          "name": "stdout",
          "output_type": "stream",
          "text": [
            "Mounted at /content/drive\n"
          ]
        }
      ],
      "source": [
        "from google.colab import drive\n",
        "drive.mount('/content/drive')\n"
      ]
    },
    {
      "cell_type": "code",
      "execution_count": null,
      "metadata": {
        "colab": {
          "base_uri": "https://localhost:8080/",
          "height": 374
        },
        "id": "HqRuSbZ3zuw_",
        "outputId": "06ddb14f-b7a1-4b98-e3ec-c49317b12473"
      },
      "outputs": [
        {
          "data": {
            "text/html": [
              "\n",
              "  <div id=\"df-c05787ae-ccbf-481c-b9bf-24e323401600\">\n",
              "    <div class=\"colab-df-container\">\n",
              "      <div>\n",
              "<style scoped>\n",
              "    .dataframe tbody tr th:only-of-type {\n",
              "        vertical-align: middle;\n",
              "    }\n",
              "\n",
              "    .dataframe tbody tr th {\n",
              "        vertical-align: top;\n",
              "    }\n",
              "\n",
              "    .dataframe thead th {\n",
              "        text-align: right;\n",
              "    }\n",
              "</style>\n",
              "<table border=\"1\" class=\"dataframe\">\n",
              "  <thead>\n",
              "    <tr style=\"text-align: right;\">\n",
              "      <th></th>\n",
              "      <th>id</th>\n",
              "      <th>name</th>\n",
              "      <th>date</th>\n",
              "      <th>manner_of_death</th>\n",
              "      <th>armed</th>\n",
              "      <th>age</th>\n",
              "      <th>gender</th>\n",
              "      <th>race</th>\n",
              "      <th>city</th>\n",
              "      <th>state</th>\n",
              "      <th>signs_of_mental_illness</th>\n",
              "      <th>threat_level</th>\n",
              "      <th>flee</th>\n",
              "      <th>body_camera</th>\n",
              "      <th>longitude</th>\n",
              "      <th>latitude</th>\n",
              "      <th>is_geocoding_exact</th>\n",
              "    </tr>\n",
              "  </thead>\n",
              "  <tbody>\n",
              "    <tr>\n",
              "      <th>0</th>\n",
              "      <td>3</td>\n",
              "      <td>Tim Elliot</td>\n",
              "      <td>2015-01-02</td>\n",
              "      <td>shot</td>\n",
              "      <td>gun</td>\n",
              "      <td>53.0</td>\n",
              "      <td>M</td>\n",
              "      <td>A</td>\n",
              "      <td>Shelton</td>\n",
              "      <td>WA</td>\n",
              "      <td>True</td>\n",
              "      <td>attack</td>\n",
              "      <td>Not fleeing</td>\n",
              "      <td>False</td>\n",
              "      <td>-123.122</td>\n",
              "      <td>47.247</td>\n",
              "      <td>True</td>\n",
              "    </tr>\n",
              "    <tr>\n",
              "      <th>1</th>\n",
              "      <td>4</td>\n",
              "      <td>Lewis Lee Lembke</td>\n",
              "      <td>2015-01-02</td>\n",
              "      <td>shot</td>\n",
              "      <td>gun</td>\n",
              "      <td>47.0</td>\n",
              "      <td>M</td>\n",
              "      <td>W</td>\n",
              "      <td>Aloha</td>\n",
              "      <td>OR</td>\n",
              "      <td>False</td>\n",
              "      <td>attack</td>\n",
              "      <td>Not fleeing</td>\n",
              "      <td>False</td>\n",
              "      <td>-122.892</td>\n",
              "      <td>45.487</td>\n",
              "      <td>True</td>\n",
              "    </tr>\n",
              "    <tr>\n",
              "      <th>2</th>\n",
              "      <td>5</td>\n",
              "      <td>John Paul Quintero</td>\n",
              "      <td>2015-01-03</td>\n",
              "      <td>shot and Tasered</td>\n",
              "      <td>unarmed</td>\n",
              "      <td>23.0</td>\n",
              "      <td>M</td>\n",
              "      <td>H</td>\n",
              "      <td>Wichita</td>\n",
              "      <td>KS</td>\n",
              "      <td>False</td>\n",
              "      <td>other</td>\n",
              "      <td>Not fleeing</td>\n",
              "      <td>False</td>\n",
              "      <td>-97.281</td>\n",
              "      <td>37.695</td>\n",
              "      <td>True</td>\n",
              "    </tr>\n",
              "    <tr>\n",
              "      <th>3</th>\n",
              "      <td>8</td>\n",
              "      <td>Matthew Hoffman</td>\n",
              "      <td>2015-01-04</td>\n",
              "      <td>shot</td>\n",
              "      <td>toy weapon</td>\n",
              "      <td>32.0</td>\n",
              "      <td>M</td>\n",
              "      <td>W</td>\n",
              "      <td>San Francisco</td>\n",
              "      <td>CA</td>\n",
              "      <td>True</td>\n",
              "      <td>attack</td>\n",
              "      <td>Not fleeing</td>\n",
              "      <td>False</td>\n",
              "      <td>-122.422</td>\n",
              "      <td>37.763</td>\n",
              "      <td>True</td>\n",
              "    </tr>\n",
              "    <tr>\n",
              "      <th>4</th>\n",
              "      <td>9</td>\n",
              "      <td>Michael Rodriguez</td>\n",
              "      <td>2015-01-04</td>\n",
              "      <td>shot</td>\n",
              "      <td>nail gun</td>\n",
              "      <td>39.0</td>\n",
              "      <td>M</td>\n",
              "      <td>H</td>\n",
              "      <td>Evans</td>\n",
              "      <td>CO</td>\n",
              "      <td>False</td>\n",
              "      <td>attack</td>\n",
              "      <td>Not fleeing</td>\n",
              "      <td>False</td>\n",
              "      <td>-104.692</td>\n",
              "      <td>40.384</td>\n",
              "      <td>True</td>\n",
              "    </tr>\n",
              "  </tbody>\n",
              "</table>\n",
              "</div>\n",
              "      <button class=\"colab-df-convert\" onclick=\"convertToInteractive('df-c05787ae-ccbf-481c-b9bf-24e323401600')\"\n",
              "              title=\"Convert this dataframe to an interactive table.\"\n",
              "              style=\"display:none;\">\n",
              "        \n",
              "  <svg xmlns=\"http://www.w3.org/2000/svg\" height=\"24px\"viewBox=\"0 0 24 24\"\n",
              "       width=\"24px\">\n",
              "    <path d=\"M0 0h24v24H0V0z\" fill=\"none\"/>\n",
              "    <path d=\"M18.56 5.44l.94 2.06.94-2.06 2.06-.94-2.06-.94-.94-2.06-.94 2.06-2.06.94zm-11 1L8.5 8.5l.94-2.06 2.06-.94-2.06-.94L8.5 2.5l-.94 2.06-2.06.94zm10 10l.94 2.06.94-2.06 2.06-.94-2.06-.94-.94-2.06-.94 2.06-2.06.94z\"/><path d=\"M17.41 7.96l-1.37-1.37c-.4-.4-.92-.59-1.43-.59-.52 0-1.04.2-1.43.59L10.3 9.45l-7.72 7.72c-.78.78-.78 2.05 0 2.83L4 21.41c.39.39.9.59 1.41.59.51 0 1.02-.2 1.41-.59l7.78-7.78 2.81-2.81c.8-.78.8-2.07 0-2.86zM5.41 20L4 18.59l7.72-7.72 1.47 1.35L5.41 20z\"/>\n",
              "  </svg>\n",
              "      </button>\n",
              "      \n",
              "  <style>\n",
              "    .colab-df-container {\n",
              "      display:flex;\n",
              "      flex-wrap:wrap;\n",
              "      gap: 12px;\n",
              "    }\n",
              "\n",
              "    .colab-df-convert {\n",
              "      background-color: #E8F0FE;\n",
              "      border: none;\n",
              "      border-radius: 50%;\n",
              "      cursor: pointer;\n",
              "      display: none;\n",
              "      fill: #1967D2;\n",
              "      height: 32px;\n",
              "      padding: 0 0 0 0;\n",
              "      width: 32px;\n",
              "    }\n",
              "\n",
              "    .colab-df-convert:hover {\n",
              "      background-color: #E2EBFA;\n",
              "      box-shadow: 0px 1px 2px rgba(60, 64, 67, 0.3), 0px 1px 3px 1px rgba(60, 64, 67, 0.15);\n",
              "      fill: #174EA6;\n",
              "    }\n",
              "\n",
              "    [theme=dark] .colab-df-convert {\n",
              "      background-color: #3B4455;\n",
              "      fill: #D2E3FC;\n",
              "    }\n",
              "\n",
              "    [theme=dark] .colab-df-convert:hover {\n",
              "      background-color: #434B5C;\n",
              "      box-shadow: 0px 1px 3px 1px rgba(0, 0, 0, 0.15);\n",
              "      filter: drop-shadow(0px 1px 2px rgba(0, 0, 0, 0.3));\n",
              "      fill: #FFFFFF;\n",
              "    }\n",
              "  </style>\n",
              "\n",
              "      <script>\n",
              "        const buttonEl =\n",
              "          document.querySelector('#df-c05787ae-ccbf-481c-b9bf-24e323401600 button.colab-df-convert');\n",
              "        buttonEl.style.display =\n",
              "          google.colab.kernel.accessAllowed ? 'block' : 'none';\n",
              "\n",
              "        async function convertToInteractive(key) {\n",
              "          const element = document.querySelector('#df-c05787ae-ccbf-481c-b9bf-24e323401600');\n",
              "          const dataTable =\n",
              "            await google.colab.kernel.invokeFunction('convertToInteractive',\n",
              "                                                     [key], {});\n",
              "          if (!dataTable) return;\n",
              "\n",
              "          const docLinkHtml = 'Like what you see? Visit the ' +\n",
              "            '<a target=\"_blank\" href=https://colab.research.google.com/notebooks/data_table.ipynb>data table notebook</a>'\n",
              "            + ' to learn more about interactive tables.';\n",
              "          element.innerHTML = '';\n",
              "          dataTable['output_type'] = 'display_data';\n",
              "          await google.colab.output.renderOutput(dataTable, element);\n",
              "          const docLink = document.createElement('div');\n",
              "          docLink.innerHTML = docLinkHtml;\n",
              "          element.appendChild(docLink);\n",
              "        }\n",
              "      </script>\n",
              "    </div>\n",
              "  </div>\n",
              "  "
            ],
            "text/plain": [
              "   id                name        date   manner_of_death       armed   age  \\\n",
              "0   3          Tim Elliot  2015-01-02              shot         gun  53.0   \n",
              "1   4    Lewis Lee Lembke  2015-01-02              shot         gun  47.0   \n",
              "2   5  John Paul Quintero  2015-01-03  shot and Tasered     unarmed  23.0   \n",
              "3   8     Matthew Hoffman  2015-01-04              shot  toy weapon  32.0   \n",
              "4   9   Michael Rodriguez  2015-01-04              shot    nail gun  39.0   \n",
              "\n",
              "  gender race           city state  signs_of_mental_illness threat_level  \\\n",
              "0      M    A        Shelton    WA                     True       attack   \n",
              "1      M    W          Aloha    OR                    False       attack   \n",
              "2      M    H        Wichita    KS                    False        other   \n",
              "3      M    W  San Francisco    CA                     True       attack   \n",
              "4      M    H          Evans    CO                    False       attack   \n",
              "\n",
              "          flee  body_camera  longitude  latitude  is_geocoding_exact  \n",
              "0  Not fleeing        False   -123.122    47.247                True  \n",
              "1  Not fleeing        False   -122.892    45.487                True  \n",
              "2  Not fleeing        False    -97.281    37.695                True  \n",
              "3  Not fleeing        False   -122.422    37.763                True  \n",
              "4  Not fleeing        False   -104.692    40.384                True  "
            ]
          },
          "execution_count": 40,
          "metadata": {},
          "output_type": "execute_result"
        }
      ],
      "source": [
        "import pandas as pd\n",
        "df = pd.read_csv('/content/drive/MyDrive/fatal-police-shootings-data.csv')\n",
        "df.head()"
      ]
    },
    {
      "cell_type": "code",
      "execution_count": null,
      "metadata": {
        "colab": {
          "base_uri": "https://localhost:8080/",
          "height": 73,
          "resources": {
            "http://localhost:8080/nbextensions/google.colab/files.js": {
              "data": "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",
              "headers": [
                [
                  "content-type",
                  "application/javascript"
                ]
              ],
              "ok": true,
              "status": 200,
              "status_text": ""
            }
          }
        },
        "id": "2dAGSWUd3yiw",
        "outputId": "0f66f235-0dfa-4d4f-a083-de77db04d416"
      },
      "outputs": [
        {
          "data": {
            "text/html": [
              "\n",
              "     <input type=\"file\" id=\"files-ab372086-5fe5-49f0-aa7f-712332088913\" name=\"files[]\" multiple disabled\n",
              "        style=\"border:none\" />\n",
              "     <output id=\"result-ab372086-5fe5-49f0-aa7f-712332088913\">\n",
              "      Upload widget is only available when the cell has been executed in the\n",
              "      current browser session. Please rerun this cell to enable.\n",
              "      </output>\n",
              "      <script src=\"/nbextensions/google.colab/files.js\"></script> "
            ],
            "text/plain": [
              "<IPython.core.display.HTML object>"
            ]
          },
          "metadata": {},
          "output_type": "display_data"
        },
        {
          "name": "stdout",
          "output_type": "stream",
          "text": [
            "Saving states 2.csv to states 2.csv\n"
          ]
        }
      ],
      "source": [
        "# number of shooting in each city and how many were mentally ill\n",
        "#df['state'].value_counts().plot(kind='barh',figsize=(15, 10))\n",
        "import seaborn as sns\n",
        "import matplotlib.pyplot as plt\n",
        "\n",
        "from google.colab import files\n",
        "uploaded = files.upload()\n",
        "\n"
      ]
    },
    {
      "cell_type": "code",
      "execution_count": null,
      "metadata": {
        "id": "bUCsTTghf_wU"
      },
      "outputs": [],
      "source": []
    },
    {
      "cell_type": "code",
      "execution_count": null,
      "metadata": {
        "id": "1M8xW-us2oR8"
      },
      "outputs": [],
      "source": [
        "#Ref : https://www.kaggle.com/datasets/omer2040/usa-states-to-region?resource=download\n",
        "#Ref (How to create stacked graph) : https://www.statology.org/seaborn-stacked-bar-plot/\n",
        "states_df =  pd.read_csv('states 2.csv')\n",
        "\n",
        "#get regions based on states names\n",
        "west = states_df.loc[states_df['Region'] == 'West', 'State Code'].tolist()\n",
        "south = states_df.loc[states_df['Region'] == 'South', 'State Code'].tolist()\n",
        "northeast = states_df.loc[states_df['Region'] == 'Northeast', 'State Code'].tolist()\n",
        "midwest = states_df.loc[states_df['Region'] == 'Midwest', 'State Code'].tolist()\n"
      ]
    },
    {
      "cell_type": "code",
      "execution_count": null,
      "metadata": {
        "colab": {
          "base_uri": "https://localhost:8080/",
          "height": 889
        },
        "id": "RNWWhhPf6ybU",
        "outputId": "dc0a7d25-f529-4b9e-a7fb-0f937228f89b"
      },
      "outputs": [
        {
          "data": {
            "image/png": "[encoded data removed]",
            "text/plain": [
              "<Figure size 936x936 with 1 Axes>"
            ]
          },
          "metadata": {},
          "output_type": "display_data"
        },
        {
          "data": {
            "text/plain": [
              "<Figure size 936x936 with 0 Axes>"
            ]
          },
          "metadata": {},
          "output_type": "display_data"
        }
      ],
      "source": [
        "import numpy as np\n",
        "\n",
        "total_mental = df[df['signs_of_mental_illness']==True].count()\n",
        "total_mental = total_mental['signs_of_mental_illness']\n",
        "non_mental = df[df['signs_of_mental_illness']==False].count()\n",
        "non_mental = non_mental['signs_of_mental_illness']\n",
        "\n",
        "new_df = df[df['signs_of_mental_illness']==True]\n",
        "\n",
        "#less then 20\n",
        "A1 = new_df[new_df['age']<20.0]\n",
        "A1_n = pd.DataFrame(A1['state'].value_counts())\n",
        "A1_n.reset_index(inplace=True)\n",
        "A1_n.columns = ['state','less than 20']\n",
        "\n",
        "#20-30\n",
        "A2 = new_df[(new_df['age']>=20.0) & (new_df['age']<30.0)]\n",
        "A2_n = pd.DataFrame(A2['state'].value_counts())\n",
        "A2_n.reset_index(inplace=True)\n",
        "A2_n.columns = ['state','20-30']\n",
        "\n",
        "# #30-40\n",
        "A3 = new_df[(new_df['age']>=30.0) & (new_df['age']<40.0)]\n",
        "A3_n = pd.DataFrame(A3['state'].value_counts())\n",
        "A3_n.reset_index(inplace=True)\n",
        "A3_n.columns = ['state','30-40']\n",
        "\n",
        "# #40-50\n",
        "A4 = new_df[(new_df['age']>=40.0) & (new_df['age']<50.0)]\n",
        "A4_n = pd.DataFrame(A4['state'].value_counts())\n",
        "A4_n.reset_index(inplace=True)\n",
        "A4_n.columns = ['state','40-50']\n",
        "\n",
        "# #50-60\n",
        "A5 = new_df[(new_df['age']>=50.0) & (new_df['age']<60.0)]\n",
        "A5_n = pd.DataFrame(A5['state'].value_counts())\n",
        "A5_n.reset_index(inplace=True)\n",
        "A5_n.columns = ['state','50-60']\n",
        "\n",
        "# #60-70\n",
        "A6 = new_df[(new_df['age']>=60.0) & (new_df['age']<70.0)]\n",
        "A6_n = pd.DataFrame(A6['state'].value_counts())\n",
        "A6_n.reset_index(inplace=True)\n",
        "A6_n.columns = ['state','60-70']\n",
        "\n",
        "# #70-80\n",
        "A7 = new_df[(new_df['age']>=70.0) & (new_df['age']<80.0)]\n",
        "A7_n = pd.DataFrame(A2['state'].value_counts())\n",
        "A7_n.reset_index(inplace=True)\n",
        "A7_n.columns = ['state','70-80']\n",
        "\n",
        "# #>80\n",
        "A8 = new_df[(new_df['age']>=80.0)]\n",
        "A8_n = pd.DataFrame(A8['state'].value_counts())\n",
        "A8_n.reset_index(inplace=True)\n",
        "A8_n.columns = ['state','more than 80']\n",
        "\n",
        "final_dfA = pd.DataFrame(new_df['state'].unique())\n",
        "\n",
        "final_dfA.columns=['state']\n",
        "dfs = [A1_n,A2_n,A3_n,A4_n,A5_n,A6_n,A7_n,A8_n]\n",
        "for i in dfs:\n",
        "  final_dfA =pd.merge(final_dfA,i,on='state',how='outer').fillna(0)\n",
        "\n",
        "final_dfA.set_index('state',inplace=True)\n",
        "\n",
        "def split_regions(region):\n",
        "  temp = final_dfA.loc[region[0]]\n",
        "  for i in range(1,len(region)):\n",
        "    temp += final_dfA.loc[region[i]]\n",
        "  temp = pd.DataFrame(temp)\n",
        "  temp.reset_index(inplace=True)\n",
        "  return temp\n",
        "\n",
        "#West\n",
        "west_r = split_regions(west)\n",
        "west_r.columns = ['Age Categories','West']\n",
        "#South\n",
        "south_r = split_regions(south)\n",
        "south_r.columns = ['Age Categories','South']\n",
        "#Northeast\n",
        "northeast_r = split_regions(northeast)\n",
        "northeast_r.columns = ['Age Categories','Northeast']\n",
        "#Midwest\n",
        "midwest_r = split_regions(midwest)\n",
        "midwest_r.columns = ['Age Categories','Midwest']\n",
        "\n",
        "area_df = pd.merge(west_r,south_r,how='outer').fillna(0)\n",
        "area_df = pd.merge(area_df,northeast_r,how='outer').fillna(0)\n",
        "area_df = pd.merge(area_df,midwest_r,how='outer').fillna(0)\n",
        "area_df = area_df.T\n",
        "area_df = area_df[1:]\n",
        "area_df.columns = ['less than 20','20-30','30-40','40-50','50-60','60-70','70-80','more than 80']\n",
        "area_df\n",
        "sns.set(rc={'figure.figsize':(13,13)})\n",
        "sns.set(font_scale = 1.5)\n",
        "area_df.plot(kind='bar',stacked=True, color=['#ebf5fb','#aed6f1','#85c1e9','#3498db','#2e86c1','#21618c','#154360','#17202A'])\n",
        "plt.title('Age groups of mentally ill victims')\n",
        "plt.xlabel('US Regions')\n",
        "plt.ylabel('Mentally Ill Victim count')\n",
        "plt.show()\n",
        "plt.savefig('foo.png')"
      ]
    },
    {
      "cell_type": "markdown",
      "metadata": {
        "id": "58bGC4wGJR9p"
      },
      "source": [
        "### Grading Breakdown"
      ]
    },
    {
      "cell_type": "markdown",
      "metadata": {
        "id": "zMmSDGsmJR9q"
      },
      "source": [
        "- 10%: Interestingness and clarity of question you ask\n",
        "- 20%: Appropriateness of data, scale, and other viz design choices\n",
        "- 10%: Legends, context, and titles of your viz\n",
        "- 20%: Overall quality of your viz: in the extreme, every pixel serves a purpose\n",
        "- 20%: Design rationale (writeup)\n",
        "- 20%: Pros and cons of your design (writeup)\n"
      ]
    },
    {
      "cell_type": "markdown",
      "metadata": {
        "id": "uJrukWXnugPD"
      },
      "source": [
        "## (5 points) Part 2: Data Viz Critique (on Campuswire by April 17)\n",
        "\n",
        "After all the data visualizations have been posted to Campuswire, you will be responsible for providing a critique of **at least two** data visualizations provided by your classmates. \n",
        "\n",
        "You should reply in the thread and provide a brief *constructive* critique. Do your best to load balance, so that every data visualization receives some feedback.\n",
        "\n",
        "On the final homework, each student will have an opportunity to revise the original data visualization based on this feedback.\n",
        "\n"
      ]
    },
    {
      "cell_type": "markdown",
      "metadata": {
        "id": "-WYe8-gUukM9"
      },
      "source": [
        "## (65 points) Part 3: Recommendation with User Ratings (Explicit Feedback) \n",
        "\n",
        "In this part, we focus on the rating prediction recommendation task with explicit feedback. We will:\n",
        "\n",
        "* load and process the MovieLens 1M dataset, \n",
        "* build a baseline estimation model,\n",
        "* build a collaborative filtering model,\n",
        "* build a matrix factorization model,\n",
        "* and try to improve upon these models.\n",
        "\n",
        "First, we need to load and preprocess the experiment dataset. We use the MovieLens 1M data from https://grouplens.org/datasets/movielens/1m/ in this homework. The code has been provided in the next cell, and you need to run it. The resulting data variables are: train_mat is the numpy array variable for training data of size (#users, #items) with non-zero entries representing user-item ratings, and zero entries representing unknown user-item ratings; and test_mat is the numpy array variable for testing data of size (#users, #items)."
      ]
    },
    {
      "cell_type": "code",
      "execution_count": 11,
      "metadata": {
        "colab": {
          "base_uri": "https://localhost:8080/",
          "height": 73,
          "resources": {
            "http://localhost:8080/nbextensions/google.colab/files.js": {
              "data": "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",
              "headers": [
                [
                  "content-type",
                  "application/javascript"
                ]
              ],
              "ok": true,
              "status": 200,
              "status_text": ""
            }
          }
        },
        "id": "Y2Lw1dJmaTFg",
        "outputId": "b1c76ab2-d1de-49db-e0d4-234d40c33cef"
      },
      "outputs": [
        {
          "data": {
            "text/html": [
              "\n",
              "     <input type=\"file\" id=\"files-fb165327-d9e0-4c5b-831e-5753051460ee\" name=\"files[]\" multiple disabled\n",
              "        style=\"border:none\" />\n",
              "     <output id=\"result-fb165327-d9e0-4c5b-831e-5753051460ee\">\n",
              "      Upload widget is only available when the cell has been executed in the\n",
              "      current browser session. Please rerun this cell to enable.\n",
              "      </output>\n",
              "      <script src=\"/nbextensions/google.colab/files.js\"></script> "
            ],
            "text/plain": [
              "<IPython.core.display.HTML object>"
            ]
          },
          "metadata": {},
          "output_type": "display_data"
        },
        {
          "name": "stdout",
          "output_type": "stream",
          "text": [
            "Saving ratings.dat to ratings (1).dat\n"
          ]
        }
      ],
      "source": [
        "# if you're using colab, this is a clunky way to load the ratings.dat file we need\n",
        "# navigate in your finder to ratings.dat when asked\n",
        "from google.colab import files\n",
        "uploaded = files.upload()"
      ]
    },
    {
      "cell_type": "code",
      "execution_count": 12,
      "metadata": {
        "colab": {
          "base_uri": "https://localhost:8080/"
        },
        "id": "E1h-s3WsacVs",
        "outputId": "1895ea8f-a2d5-4f88-e4a8-973fbff17517"
      },
      "outputs": [
        {
          "name": "stderr",
          "output_type": "stream",
          "text": [
            "/usr/local/lib/python3.7/dist-packages/pandas/util/_decorators.py:311: ParserWarning: Falling back to the 'python' engine because the 'c' engine does not support regex separators (separators > 1 char and different from '\\s+' are interpreted as regex); you can avoid this warning by specifying engine='python'.\n",
            "  return func(*args, **kwargs)\n"
          ]
        }
      ],
      "source": [
        "import io\n",
        "import pandas as pd\n",
        "import numpy as np\n",
        "from scipy.sparse import coo_matrix\n",
        "\n",
        "data_df = pd.read_csv(io.BytesIO(uploaded['ratings.dat']), sep='::', names=[\"UserID\", \"MovieID\", \"Rating\", \"Timestamp\"])\n",
        "\n",
        "# if you are running this notebook locally, you can replace above with something like this:\n",
        "# data_df = pd.read_csv('./ratings.dat', sep='::', names=[\"UserID\", \"MovieID\", \"Rating\", \"Timestamp\"])\n",
        "\n",
        "# First, generate dictionaries for mapping old id to new id for users and movies\n",
        "unique_MovieID = data_df['MovieID'].unique()\n",
        "unique_UserID = data_df['UserID'].unique()\n",
        "j = 0\n",
        "user_old2new_id_dict = dict()\n",
        "for u in unique_UserID:\n",
        "    user_old2new_id_dict[u] = j\n",
        "    j += 1\n",
        "j = 0\n",
        "movie_old2new_id_dict = dict()\n",
        "for i in unique_MovieID:\n",
        "    movie_old2new_id_dict[i] = j\n",
        "    j += 1\n",
        "    \n",
        "# Then, use the generated dictionaries to reindex UserID and MovieID in the data_df\n",
        "user_list = data_df['UserID'].values\n",
        "movie_list = data_df['MovieID'].values\n",
        "for j in range(len(data_df)):\n",
        "    user_list[j] = user_old2new_id_dict[user_list[j]]\n",
        "    movie_list[j] = movie_old2new_id_dict[movie_list[j]]\n",
        "data_df['UserID'] = user_list\n",
        "data_df['movieID'] = movie_list\n",
        "\n",
        "# generate train_df with 70% samples and test_df with 30% samples, and there should have no overlap between them.\n",
        "train_index = np.random.random(len(data_df)) <= 0.7\n",
        "train_df = data_df[train_index]\n",
        "test_df = data_df[~train_index]\n",
        "\n",
        "# generate train_mat and test_mat\n",
        "num_user = len(data_df['UserID'].unique())\n",
        "num_movie = len(data_df['MovieID'].unique())\n",
        "\n",
        "train_mat = coo_matrix((train_df['Rating'].values, (train_df['UserID'].values, train_df['MovieID'].values)), shape=(num_user, num_movie)).astype(float).toarray()\n",
        "test_mat = coo_matrix((test_df['Rating'].values, (test_df['UserID'].values, test_df['MovieID'].values)), shape=(num_user, num_movie)).astype(float).toarray()"
      ]
    },
    {
      "cell_type": "markdown",
      "metadata": {
        "id": "hI_D_HSXzbaK"
      },
      "source": [
        "## Part 3a: Build the Baseline Estimation Model (15 points)\n",
        "\n",
        "First, let's implement a simple personalized recommendation model -- the baseline estimate -- introduced in class: $b_{u,i}=\\mu+b_i+b_u$, where $\\mu$ is the overall mean rating for all items, $b_u$ = average rating of user $u-\\mu$, $b_i$ = average rating of item $i-\\mu$. Store your prediction as a numpy array variable 'prediction_mat' of size (#users, #movies) with each entry showing the predicted rating for the corresponding user-movie pair.\n",
        "\n",
        "* Hint: for users who do not have ratings in train_mat, set $b_u=0$ for them; and for movies which do not have ratings in train_mat, set $b_i=0$ for them"
      ]
    },
    {
      "cell_type": "code",
      "execution_count": 3,
      "metadata": {
        "id": "SHqawSeQzpR_"
      },
      "outputs": [],
      "source": [
        "# calculate the prediction_mat by the baseline estimation recommendation algorithm\n",
        "\n",
        "#calculate mu\n",
        "mu = train_mat.sum()/np.count_nonzero(train_mat)\n",
        "#calculate bi\n",
        "np.seterr(divide='ignore', invalid='ignore')\n",
        "bi = train_mat.sum(0)/(train_mat != 0).sum(0) #columns\n",
        "#calculate bu\n",
        "bu = train_mat.sum(1) /(train_mat != 0).sum(1) #rows\n",
        "prediction_mat = np.zeros((num_user, num_movie))\n",
        "def baseline(user,item):\n",
        "  return bu[user]+bi[item]-mu\n",
        "\n",
        "for u in range(num_user):\n",
        "  for i in range(num_movie):\n",
        "    if(train_mat[u][i]==0):\n",
        "         prediction_mat[u][i] = baseline(u,i)\n",
        "prediction_mat[np.isnan(prediction_mat)] = 0\n",
        "\n",
        "#prediction_mat"
      ]
    },
    {
      "cell_type": "markdown",
      "metadata": {
        "id": "IXRS-CC_zpuT"
      },
      "source": [
        "Now, with this prediction_mat based on the baseline estimate, let's calculate the RMSE to evaluate the quality of the baseline estimate model. Please print out the RMSE of your prediction_mat using test_mat in the next cell.\n"
      ]
    },
    {
      "cell_type": "code",
      "execution_count": 4,
      "metadata": {
        "colab": {
          "base_uri": "https://localhost:8080/"
        },
        "id": "sqMsJrtTzr8f",
        "outputId": "5a9cf7e5-8a98-4ffc-9577-ef0027aa1be0"
      },
      "outputs": [
        {
          "data": {
            "text/plain": [
              "0.9381410310202551"
            ]
          },
          "execution_count": 4,
          "metadata": {},
          "output_type": "execute_result"
        }
      ],
      "source": [
        "# calculate and print out the RMSE for your prediction_df and the test_df\n",
        "from math import sqrt\n",
        "def RMSE(test_mat,pred_mat):\n",
        "  sum = 0\n",
        "  for u in range(num_user):\n",
        "    for i in range(num_movie):\n",
        "      if(test_mat[u][i]!=0):\n",
        "        sum +=((pred_mat[u][i]-test_mat[u][i])*(pred_mat[u][i]-test_mat[u][i]))\n",
        "        \n",
        "  return sqrt(sum/np.count_nonzero(test_mat))\n",
        "      \n",
        "RMSE(test_mat,prediction_mat)"
      ]
    },
    {
      "cell_type": "markdown",
      "metadata": {
        "id": "3V_S-DXXztyu"
      },
      "source": [
        "## Part 3b: Collaborative Filtering with Jaccard Similarity (15 points)\n",
        "\n",
        "In this part, you need to build a collaborative filtering recommendation model with **Jaccard similarity** to predict user-movie ratings. \n",
        "\n",
        "The prediction of the score for a user-item pair $(u,i)$ should use the formulation: $p_{u,i}=\\bar{r}_u+\\frac{\\sum_{u^\\prime\\in N}s(u,u^\\prime)(r_{u^\\prime,i}-\\bar{r}_{u^\\prime})}{\\sum_{u^\\prime\\in N}|s(u, u^\\prime)|}$ as introduced in class, where $s(u, u^\\prime)$ is the Jaccard similarity. We set the size of $N$ as 10.\n",
        "\n",
        "In the next cell, you need to write your code to implement this algorithm, and generate a numpy array variable named 'prediction_mat' of size (#user, #movie) with each entry showing the predicted rating for the corresponding user-movie pair.\n",
        "\n",
        "* Hint: when you find the nearest neighbor set $N$ of a user $u$, do not include user $u$ in $N$  \n"
      ]
    },
    {
      "cell_type": "code",
      "execution_count": 5,
      "metadata": {
        "id": "X1mo8k_t4HTs"
      },
      "outputs": [],
      "source": [
        "\n",
        "\n",
        "import numpy as np\n",
        "import pandas as pd\n",
        "\n",
        "b_user = dict()\n",
        "for ind in range(num_user):\n",
        "    curr = sum(train_mat[ind]>0)\n",
        "    b_user[ind] = 0\n",
        "    if curr>0:\n",
        "        b_user[ind] = (sum(train_mat[ind])/curr)-mu\n",
        "\n",
        "r_hat = {k:v+mu for k,v in b_user.items()}"
      ]
    },
    {
      "cell_type": "code",
      "execution_count": 6,
      "metadata": {
        "id": "Sxf9YBSDz3Gm"
      },
      "outputs": [],
      "source": [
        "# calculate the prediction_mat by your user-user collaborative filtering recommendation algorithm\n",
        "\n",
        "import numpy as np\n",
        "import pandas as pd\n",
        "\n",
        "#Ref (Jaccard function): https://stackoverflow.com/questions/32805916/compute-jaccard-distances-on-sparse-matrix\n",
        "\n",
        "def pairwise_jaccard(X):\n",
        "    intrsct = X.dot(X.T)\n",
        "    row_sums = intrsct.diagonal()\n",
        "    unions = row_sums[:,None] + row_sums - intrsct\n",
        "    dist = intrsct / unions\n",
        "    return dist\n",
        "\n",
        "def get_neighbors(sim,N):\n",
        "  neighb = {}\n",
        "  for i in range(num_user):\n",
        "    indices = list(np.argsort(sim[i])[::-1])\n",
        "    indices.remove(i)\n",
        "    neighb[i] = indices[:N]\n",
        "  return neighb\n",
        "\n",
        "\n",
        "def predict_mat(train_mat,N):\n",
        "  predictions_mat = np.zeros(train_mat.shape)\n",
        "  similarity = pairwise_jaccard(train_mat)\n",
        "  neighb = get_neighbors(similarity,N)\n",
        "  for u in range(num_user):\n",
        "    \n",
        "    for i in range(num_movie):\n",
        "      nume = 0\n",
        "      denom = 0\n",
        "      for n in neighb[u]:\n",
        "        if(train_mat[n,i]>0):\n",
        "          nume += similarity[u,i] * (train_mat[n,i]-r_hat[n])\n",
        "          denom += similarity[u,i]\n",
        "        \n",
        "        if (denom > 0):\n",
        "          predictions_mat[u,i] = r_hat[u] + nume/denom\n",
        "        else:\n",
        "          predictions_mat[u,i] = r_hat[u]\n",
        "      \n",
        "  return predictions_mat\n",
        "\n",
        "predictions_df = predict_mat(train_mat,10)\n"
      ]
    },
    {
      "cell_type": "markdown",
      "metadata": {
        "id": "jrtLUo75z3kx"
      },
      "source": [
        "Please print out the RMSE of your prediction_mat using test_mat in the next cell."
      ]
    },
    {
      "cell_type": "code",
      "execution_count": 7,
      "metadata": {
        "colab": {
          "base_uri": "https://localhost:8080/"
        },
        "id": "cAn9BwQ8z50h",
        "outputId": "fd56f85f-9f7d-4e7e-d2f6-83d7db8586f5"
      },
      "outputs": [
        {
          "data": {
            "text/plain": [
              "1.045819369144408"
            ]
          },
          "execution_count": 7,
          "metadata": {},
          "output_type": "execute_result"
        }
      ],
      "source": [
        "# calculate and print out the RMSE for your prediction_df and the test_df\n",
        "# Your Code Here...\n",
        "RMSE(test_mat,predictions_df)"
      ]
    },
    {
      "cell_type": "markdown",
      "metadata": {
        "id": "iUytWkvbLOuC"
      },
      "source": []
    },
    {
      "cell_type": "markdown",
      "metadata": {
        "id": "kANk-3sez7bo"
      },
      "source": [
        "Comparing the RMSE results of this collaborative filtering and the baseline estimate algorithm, what do you observe? Is the  collaborative filtering the one producing the best performance? What reasons do you think can explain what you observe?"
      ]
    },
    {
      "cell_type": "markdown",
      "metadata": {
        "id": "rdR-FzXk0BN9"
      },
      "source": [
        "RMSE of Collaborative filtering is higher compared to baseline estimator. The main reason for this is that we are only using 10 neighbors to compare similarity. Therefore Baseline has best perfomance."
      ]
    },
    {
      "cell_type": "markdown",
      "metadata": {
        "id": "6GCbSqrZ1PwQ"
      },
      "source": [
        "## Part 3c: Matrix Factorization (15 points)\n",
        "\n",
        "Now we turn to matrix factorization. First, let's implement the matrix factorization (MF for short) model introduced in class. The MF model can be mathematically represented as: \n",
        "\n",
        "<center>$\\underset{\\mathbf{P},\\mathbf{Q}}{\\text{min}}\\,\\,L=\\sum_{(u,i)\\in\\mathcal{O}}(\\mathbf{P}_u\\cdot\\mathbf{Q}^\\top_i-r_{u,i})^2+\\lambda(\\lVert\\mathbf{P}\\rVert^2_{\\text{F}}+\\lVert\\mathbf{Q}\\rVert^2_{\\text{F}})$,</center>\n",
        "    \n",
        "where $\\mathbf{P}$ is the user latent factor matrix of size (#user, #latent); $\\mathbf{Q}$ is the movie latent factor matrix of size (#movie, #latent); $\\mathcal{O}$ is a user-movie pair set containing all user-movie pairs having ratings in train_mat; $r_{u,i}$ represents the rating for user u and movie i; $\\lambda(\\lVert\\mathbf{P}\\rVert^2_{\\text{F}}+\\lVert\\mathbf{Q}\\rVert^2_{\\text{F}})$ is the regularization term to overcome overfitting problem, $\\lambda$ is the regularization weight (a hyper-parameter manually set by developer, i.e., you), and $\\lVert\\mathbf{P}\\rVert^2_{\\text{F}}=\\sum_{x}\\sum_{y}(\\mathbf{P}_{x,y})^2$, $\\lVert\\mathbf{Q}\\rVert^2_{\\text{F}}=\\sum_{x}\\sum_{y}(\\mathbf{Q}_{x,y})^2$. Such an L function is called the **loss function** for the matrix factorization model. The goal of training an MF model is to find appropriate $\\mathbf{P}$ and $\\mathbf{Q}$ to minimize the loss L.\n",
        "\n",
        "To implement such an MF, here we will write a Python class for the model. There are three functions in this MF class: init, train, and predict. \n",
        "\n",
        "* The 'init' function (**already provided**) is to initialize the variables the MF class needs, which takes 5 inputs: train_mat, test_mat, latent, lr, and reg. 'train_mat' and 'test_mat' are the corresponfing training and testing matrices we have. 'latent' represents the latent dimension we set for the MF model. 'lr' represents the learning rate, i.e., the update step in each optimization iteration, default is 0.01. 'reg' represents the regularization weight, i.e., the $\\lambda$ in the MF formulation.\n",
        "\n",
        "* The 'train' function (**partially provided and need to complete**) is to train the MF model given the training data train_mat. There is only one input to this function: an int variable 'epoch' to indicate how many epochs for training the model. The main body of this function should be a loop for 'epoch' iterations. In each iteration, following the algorithm to update the MF model:\n",
        "\n",
        "        1. Randomly shuffle training user-movie pairs  (i.e., user-movie pairs having ratings in train_mat)\n",
        "        2. Have an inner loop to iterate each user-movie pair:\n",
        "                a. given a user-movie pair (u,i), update the user latent factor and movie latent factor by gradient decsent:    \n",
        "<center>$\\mathbf{P}_u=\\mathbf{P}_u-\\gamma [2(\\mathbf{P}_u\\cdot\\mathbf{Q}_i^\\top-r_{u,i})\\cdot\\mathbf{Q}_i+2\\lambda\\mathbf{P}_u]$</center>    \n",
        "<center>$\\mathbf{Q}_i=\\mathbf{Q}_i-\\gamma [2(\\mathbf{P}_u\\cdot\\mathbf{Q}_i^\\top-r_{u,i})\\cdot\\mathbf{P}_u+2\\lambda\\mathbf{Q}_i]$</center>    \n",
        "<center>where $\\mathbf{P}_u$ and $\\mathbf{Q}_i$ are row vectors of size (1, #latent), $\\gamma$ is learning rate (default is 0.01), $\\lambda$ is regularization weight.</center>\n",
        "        \n",
        "        3. After iterating over all user-movie pairs, we have finished the training for the current epoch. Now calculate and print out the value of the loss function L after this epoch, and the RMSE on test_mat by the current MF model. Then append them to lists to keep a record of them.\n",
        "The train function needs to return two lists: 'epoch_loss_list' recording the loss after each training epoch, and 'epoch_test_RMSE_list' recording the RMSE on test_mat after each training epoch.\n",
        "\n",
        "* The 'predict' function (**already provided**) is to calculate the prediction_mat by the learned $\\mathbf{P}$ and $\\mathbf{Q}$.\n",
        "\n",
        "In the next cell, we provide the 'init' and 'predict' functions. You will need to fill in the 'train' function based on the description above. \n",
        "\n",
        "**NOTE that you should not delete or modify the provided code.**"
      ]
    },
    {
      "cell_type": "code",
      "execution_count": 19,
      "metadata": {
        "id": "ISJd_HvQ15ji"
      },
      "outputs": [],
      "source": [
        "import tqdm\n",
        "from numpy import linalg as LA\n",
        "class MF:\n",
        "    def __init__(self, train_mat, test_mat, latent=5, lr=0.01, reg=0.01):\n",
        "        self.train_mat = train_mat  # the training rating matrix of size (#user, #movie)\n",
        "        self.test_mat = test_mat  # the training rating matrix of size (#user, #movie)\n",
        "        \n",
        "        self.latent = latent  # the latent dimension\n",
        "        self.lr = lr  # learning rate\n",
        "        self.reg = reg  # regularization weight, i.e., the lambda in the objective function\n",
        "        \n",
        "        self.num_user, self.num_movie = train_mat.shape\n",
        "        \n",
        "        self.sample_user, self.sample_movie = self.train_mat.nonzero()  # get the user-movie paris having ratings in train_mat\n",
        "        self.num_sample = len(self.sample_user)  # the number of user-movie pairs having ratings in train_mat\n",
        "\n",
        "        self.train_indicator_mat = 1.0 * (train_mat > 0)  # binary matrix to indicate whether s user-movie pair has rating or not in train_mat\n",
        "        self.test_indicator_mat = 1.0 * (test_mat > 0)  # binary matrix to indicate whether s user-movie pair has rating or not in test_mat\n",
        "\n",
        "        self.P = np.random.random((self.num_user, self.latent))  # latent factors for users, size (#user, self.latent), randomly initialized\n",
        "        self.Q = np.random.random((self.num_movie, self.latent))  # latent factors for users, size (#movie, self.latent), randomly initialized\n",
        "\n",
        "    def train(self, epoch=20, verbose=True):\n",
        "        \"\"\"\n",
        "        Goal: Write your code to train your matrix factorization model for epoch iterations in this function\n",
        "        Input: epoch -- the number of training epoch \n",
        "        Output: epoch_loss_list -- a list recording the training loss for each epoch\n",
        "                epoch_test_RMSE_list -- a list recording the testing RMSE after each training epoch\n",
        "        \"\"\"\n",
        "        epoch_loss_list = []\n",
        "        epoch_test_RMSE_list = []\n",
        "        shuffle_mat = list(zip(self.sample_user, self.sample_movie))\n",
        "        for ep in range(epoch):\n",
        "            np.random.shuffle(shuffle_mat)\n",
        "            error = 0\n",
        "            loss = 0\n",
        "            total_err = 0\n",
        "            for curr in shuffle_mat:\n",
        "              u,i = curr\n",
        "              \n",
        "              p_u = np.copy(self.P[u])\n",
        "              q_i = np.copy(self.Q[i])\n",
        "\n",
        "              r_hat = np.dot(p_u,q_i.T)\n",
        "              err = r_hat - train_mat[u][i]\n",
        "\n",
        "              self.P[u] = p_u - self.lr * ((2 * err * q_i) + (2 * self.reg * p_u))\n",
        "              self.Q[i] = q_i - self.lr * ((2 * err * p_u) + (2 * self.reg * q_i))\n",
        "            \n",
        "              total_err += err ** 2\n",
        "\n",
        "\n",
        "            l2 = (np.square(self.P)).sum() + (np.square(self.Q)).sum()\n",
        "          \n",
        "            loss = total_err + (l2 * self.reg)\n",
        "            prediction_mat = self.predict()\n",
        "            rmse = RMSE(test_mat,prediction_mat)\n",
        "            print(\"Loss {}: {} / RMSE : {}\".format(ep+1,loss,rmse))\n",
        "            epoch_test_RMSE_list.append(rmse)\n",
        "            epoch_loss_list.append(loss)\n",
        "\n",
        "        return epoch_loss_list, epoch_test_RMSE_list\n",
        "\n",
        "    def predict(self):\n",
        "        prediction_mat = np.matmul(self.P, self.Q.T)\n",
        "        return prediction_mat\n"
      ]
    },
    {
      "cell_type": "markdown",
      "metadata": {
        "id": "rIpA5p5v19Oo"
      },
      "source": [
        "Now, let's train an MF model based on your implementation. The code is provided, you just need to excute the next cell. The expectations are: \n",
        "\n",
        "* first, the code can be successfully excuted without error; \n",
        "* and second, the training loss and RMSE on **test_mat** of each training epoch should be printed out for all 20 epochs.\n",
        "\n",
        "\n",
        "* Hint: the expected time used for training is around 10s to 60s per training epoch."
      ]
    },
    {
      "cell_type": "code",
      "execution_count": null,
      "metadata": {
        "colab": {
          "base_uri": "https://localhost:8080/"
        },
        "id": "8xBeR6gH2Avp",
        "outputId": "58526fe1-e033-4f3b-967a-8b1f30cd1b1b"
      },
      "outputs": [
        {
          "name": "stdout",
          "output_type": "stream",
          "text": [
            "Loss 1: 793142.0066794402 / RMSE : 0.9525910057271765\n",
            "Loss 2: 620879.8490500167 / RMSE : 0.9463561412945587\n",
            "Loss 3: 608351.1450591953 / RMSE : 0.9389852047730247\n",
            "Loss 4: 591444.3300577917 / RMSE : 0.9300836680659788\n",
            "Loss 5: 576087.8593749467 / RMSE : 0.9232111123716844\n",
            "Loss 6: 564263.690039266 / RMSE : 0.920101289756491\n",
            "Loss 7: 555007.4304414697 / RMSE : 0.9156287731954114\n",
            "Loss 8: 547597.4701092759 / RMSE : 0.9115012819490498\n",
            "Loss 9: 541105.0986471033 / RMSE : 0.9099009661213726\n",
            "Loss 10: 536176.7332405044 / RMSE : 0.9083115843094963\n",
            "Loss 11: 531920.6140676311 / RMSE : 0.9051094636159649\n",
            "Loss 12: 528291.336728629 / RMSE : 0.9051725487258384\n",
            "Loss 13: 525251.9750012509 / RMSE : 0.9036050285927513\n",
            "Loss 14: 522656.06157841056 / RMSE : 0.9019717689126702\n",
            "Loss 15: 520771.10659894167 / RMSE : 0.9004728204041724\n",
            "Loss 16: 518873.2528133389 / RMSE : 0.8999475544086682\n",
            "Loss 17: 517346.05886000645 / RMSE : 0.8999612879763201\n",
            "Loss 18: 516371.2208757765 / RMSE : 0.9002702433821064\n",
            "Loss 19: 515257.2429375796 / RMSE : 0.9004767551618824\n",
            "Loss 20: 514381.38554148667 / RMSE : 0.9003143288542089\n"
          ]
        }
      ],
      "source": [
        "\n",
        "mf = MF(train_mat, test_mat, latent=5, lr=0.01, reg=0.001)\n",
        "epoch_loss_list, epoch_test_RMSE_list = mf.train(epoch=20)\n",
        "\n"
      ]
    },
    {
      "cell_type": "markdown",
      "metadata": {
        "id": "hAoykVgg2BNl"
      },
      "source": [
        "## Part 3d: Tune Hyper-parameters in Matrix Factorization (10 points)\n",
        "\n",
        "In the previous part, we train an MF model with latent dimension set as 5, regularization weight as 0.001, training epoch as 20. However, it is not clear whether these are good choices or not. Hence, in this part, we will tune these hyper-parameters to train an effective model.\n",
        "\n",
        "A most straightforward but powerful method is to grid search each hyper-parameter and find the best one based on the RMSE on test_mat. In this part, we will do the grid search for train epoch, latent dimension, and regularization weight.\n",
        "\n",
        "#### Tune training epoch####\n",
        "\n",
        "For training epoch, we only need to run the experiment of MF for one time, and record the test RMSE for each epoch and find the epoch that produces the best test RMSE. To visually show the change of test RMSE corresponding to the training epoch, we can plot the test RMSE for each epoch in a figure as shown in the next cell.\n",
        "\n",
        "**Note that you need to first install the matplotlib, then you can excute the next cell**"
      ]
    },
    {
      "cell_type": "code",
      "execution_count": null,
      "metadata": {
        "colab": {
          "base_uri": "https://localhost:8080/",
          "height": 297
        },
        "id": "GZPsAD8v2NIG",
        "outputId": "287f5609-2fce-47ff-eb3f-82935c509ed1"
      },
      "outputs": [
        {
          "data": {
            "image/png": "[encoded data removed]",
            "text/plain": [
              "<Figure size 576x288 with 1 Axes>"
            ]
          },
          "metadata": {
            "needs_background": "light"
          },
          "output_type": "display_data"
        }
      ],
      "source": [
        "import matplotlib.pyplot as plt\n",
        "\n",
        "fig, ax = plt.subplots(nrows=1, ncols=1, figsize=(8, 4))\n",
        "ax.plot(np.arange(len(epoch_test_RMSE_list)) + 1, epoch_test_RMSE_list, marker='.', linewidth=1.5, markersize=8)\n",
        "ax.set_xticks(np.arange(len(epoch_test_RMSE_list)) + 1)\n",
        "ax.set_ylabel('test RMSE')\n",
        "ax.set_xlabel('epoch')\n",
        "ax.set_title('Tune training epoch')\n",
        "ax.grid(True)\n",
        "plt.tight_layout()\n",
        "plt.show()"
      ]
    },
    {
      "cell_type": "markdown",
      "metadata": {
        "id": "p2e5yapn2Q97"
      },
      "source": [
        "\n",
        "Based on this plot, what is the best epoch for your MF model?"
      ]
    },
    {
      "cell_type": "markdown",
      "metadata": {
        "id": "WSNd_J7S2Rmj"
      },
      "source": [
        "The best epoch is 17."
      ]
    },
    {
      "cell_type": "markdown",
      "metadata": {
        "id": "cHPTnd352W2O"
      },
      "source": [
        "#### Tune latent dimension####\n",
        "\n",
        "By this figure, you can find the best epoch for your MF model. Similarly, you can plot how the test RMSE changes when you set different latent dimensions. For this, you need to run the code to initialize and train the MF model for multiple times with different settings of 'latent'. Please run the MF model with 'latent' as {1,3,5,7,9}, and plot the corresponding test RMSE for these five different latent dimensions in the next cell. \n",
        "\n",
        "**Note that for these five runs of experiments, record the test RMSE after E training epochs -- E is the best epoch you find by the 'Tune training epoch' plot. And here, fix regularization weight as 0.001**.\n",
        "\n",
        "**Note that the expected output of the next cell is just the plot, you don't need to show the code and printing of the experiment with different 'latent' here.**"
      ]
    },
    {
      "cell_type": "code",
      "execution_count": null,
      "metadata": {
        "id": "6Mfr24w02d0D"
      },
      "outputs": [],
      "source": [
        "# Your Code Here...\n",
        "latents = [1,3,5,7,9]\n",
        "RMSE_list = [];\n",
        "for i in latents:\n",
        "  mf = MF(train_mat, test_mat, latent=i, lr=0.01, reg=0.001)\n",
        "  epoch_loss_list, epoch_test_RMSE_list = mf.train(epoch=18)\n",
        "  RMSE_list.append(min(epoch_test_RMSE_list))\n"
      ]
    },
    {
      "cell_type": "code",
      "execution_count": null,
      "metadata": {
        "colab": {
          "base_uri": "https://localhost:8080/",
          "height": 297
        },
        "id": "jUiCyD81Rna1",
        "outputId": "2105adbf-76d1-43d7-d297-80a63f064874"
      },
      "outputs": [
        {
          "data": {
            "image/png": "[encoded data removed]",
            "text/plain": [
              "<Figure size 576x288 with 1 Axes>"
            ]
          },
          "metadata": {
            "needs_background": "light"
          },
          "output_type": "display_data"
        }
      ],
      "source": [
        "fig, ax = plt.subplots(nrows=1, ncols=1, figsize=(8, 4))\n",
        "ax.plot(latents,RMSE_list, marker='.', linewidth=1.5, markersize=8)\n",
        "ax.set_ylabel('RMSE values')\n",
        "ax.set_xlabel('Latent values')\n",
        "ax.set_title('Tune training Latent values')\n",
        "ax.grid(True)\n",
        "plt.tight_layout()\n",
        "plt.show()"
      ]
    },
    {
      "cell_type": "markdown",
      "metadata": {
        "id": "QV_f3D6M2gne"
      },
      "source": [
        "Based on this plot, what is the best latent dimension for your MF model?"
      ]
    },
    {
      "cell_type": "markdown",
      "metadata": {
        "id": "rNE50oyS2iQ9"
      },
      "source": [
        "Best latent factor : 5"
      ]
    },
    {
      "cell_type": "markdown",
      "metadata": {
        "id": "aq1Pwa0d2j8_"
      },
      "source": [
        "#### Tune regularization weight####\n",
        "\n",
        "Last, you can plot how the test RMSE changes when you set different regularization weight. Please run the MF model with 'reg' as {0.0001,0.0005,0.001,0.0015,0.002}, and plot corresponding test RMSE for these five different regularization weights in the next cell. \n",
        "\n",
        "**Note that for these five runs of experiments, record the test RMSE after E training epochs -- E is the best epoch you find by the 'Tune training epoch' plot. And here, fix latent dimension as the one you find the best by the previous part**\n",
        "\n",
        "**Note that the expected output of the next cell is just the plot, you don't need to show the code and printing of the experiment with different 'reg' here.**"
      ]
    },
    {
      "cell_type": "code",
      "execution_count": null,
      "metadata": {
        "id": "8x-xbXSu2nv_"
      },
      "outputs": [],
      "source": [
        "from matplotlib.scale import register_scale\n",
        "regs = [0.0001,0.0005,0.001,0.0015,0.002]\n",
        "regs_list = [];\n",
        "for i in regs:\n",
        "  mf = MF(train_mat, test_mat, latent=5, lr=0.01, reg=i)\n",
        "  epoch_loss_list, epoch_test_RMSE_list = mf.train(epoch=18)\n",
        "  regs_list.append(min(epoch_test_RMSE_list))\n",
        "\n"
      ]
    },
    {
      "cell_type": "code",
      "execution_count": 20,
      "metadata": {
        "colab": {
          "base_uri": "https://localhost:8080/",
          "height": 297
        },
        "id": "q3zAr76tdv6W",
        "outputId": "a2f2bb06-92b8-48ab-f4fd-f036c839315b"
      },
      "outputs": [
        {
          "data": {
            "image/png": "[encoded data removed]",
            "text/plain": [
              "<Figure size 576x288 with 1 Axes>"
            ]
          },
          "metadata": {
            "needs_background": "light"
          },
          "output_type": "display_data"
        }
      ],
      "source": [
        "import matplotlib.pyplot as plt\n",
        "fig, ax = plt.subplots(nrows=1, ncols=1, figsize=(8, 4))\n",
        "ax.plot(regs,regs_list, marker='.', linewidth=1.5, markersize=8)\n",
        "ax.set_ylabel('RMSE values')\n",
        "ax.set_xlabel('Regularization values')\n",
        "ax.set_title('Tune training regularization values')\n",
        "ax.grid(True)\n",
        "plt.tight_layout()\n",
        "plt.show()"
      ]
    },
    {
      "cell_type": "markdown",
      "metadata": {
        "id": "pXY47Pi02lp4"
      },
      "source": [
        "Based on this plot, what is the best regularization weight for your MF model?\n"
      ]
    },
    {
      "cell_type": "markdown",
      "metadata": {
        "id": "KFkZQiiF2rI6"
      },
      "source": [
        "Based on the plot the best regularization is 0.002"
      ]
    },
    {
      "cell_type": "markdown",
      "metadata": {
        "id": "3vIEK3UH0H1Y"
      },
      "source": [
        "## Part 3e: Improve the Model (10 points)\n",
        "\n",
        "Next, you need to try your best to improve the model so that we can improve our RMSE! This is open-ended, so feel free to try whatever tricks you like. We talked about several in class, plus you can find more in the readings. Write your code in the next cell and print out the RMSE of your new model."
      ]
    },
    {
      "cell_type": "code",
      "execution_count": 23,
      "metadata": {
        "colab": {
          "base_uri": "https://localhost:8080/"
        },
        "id": "EyMIKUDz0L-w",
        "outputId": "e43974d4-5cd8-4742-91bb-c00265400325"
      },
      "outputs": [
        {
          "name": "stdout",
          "output_type": "stream",
          "text": [
            "Loss 1: 738625.060041292 / RMSE : 0.9409061263352534\n",
            "Loss 2: 604731.1978594484 / RMSE : 0.9321879856752436\n",
            "Loss 3: 594977.9170150228 / RMSE : 0.9296069288085935\n",
            "Loss 4: 590574.5106645747 / RMSE : 0.9285745339121634\n",
            "Loss 5: 587301.2243533493 / RMSE : 0.9273050713559308\n",
            "Loss 6: 583750.8436007472 / RMSE : 0.925346759388926\n",
            "Loss 7: 578602.3780258138 / RMSE : 0.921994646849116\n",
            "Loss 8: 571371.0251407777 / RMSE : 0.9179958054141122\n",
            "Loss 9: 562792.0963396747 / RMSE : 0.9122805843963271\n",
            "Loss 10: 553526.2012635474 / RMSE : 0.9081086928171934\n",
            "Loss 11: 545366.4338233898 / RMSE : 0.9037243054219418\n",
            "Loss 12: 538128.949294987 / RMSE : 0.9000895514648677\n",
            "Loss 13: 531312.821247795 / RMSE : 0.896769941854399\n",
            "Loss 14: 525228.7247720637 / RMSE : 0.8955154121158774\n",
            "Loss 15: 519725.9210295599 / RMSE : 0.8927147191986362\n",
            "Loss 16: 514579.9056937722 / RMSE : 0.8895117793112194\n",
            "Loss 17: 509841.9891609735 / RMSE : 0.8884829721069287\n",
            "Loss 18: 505487.6767365675 / RMSE : 0.8865164426331229\n",
            "Loss 19: 501602.64948352677 / RMSE : 0.8846514461122713\n",
            "Loss 20: 497878.89017467253 / RMSE : 0.8837890795663401\n"
          ]
        }
      ],
      "source": [
        "# implement your improved model and print out the RMSE\n",
        "# Your Code Here...\n",
        "mf = MF(train_mat, test_mat, latent=9, lr=0.005, reg=0.05)\n",
        "epoch_loss_list, epoch_test_RMSE_list = mf.train(epoch=20)\n",
        "\n"
      ]
    },
    {
      "cell_type": "code",
      "execution_count": 24,
      "metadata": {
        "colab": {
          "base_uri": "https://localhost:8080/"
        },
        "id": "7IsqmlAeDgvO",
        "outputId": "3ecc2212-6809-4dc9-82b9-878299611fcc"
      },
      "outputs": [
        {
          "name": "stdout",
          "output_type": "stream",
          "text": [
            "0.8837890795663401\n"
          ]
        }
      ],
      "source": [
        "import math\n",
        "print(min(epoch_test_RMSE_list))\n",
        "\n"
      ]
    },
    {
      "cell_type": "markdown",
      "metadata": {
        "id": "inSUB3a60RMW"
      },
      "source": [
        "In my new model i have decreased the value of learning rate and increased the value of regularization and my new model has best RMSE is 0.883. \n",
        "I have used lr = 0.005 and reg = 0.05\n"
      ]
    },
    {
      "cell_type": "markdown",
      "metadata": {
        "id": "R38z2kSY0R7O"
      },
      "source": [
        "*Briefly explain what you do in your new model to improve the performance Write your answer here...*"
      ]
    }
  ],
  "metadata": {
    "colab": {
      "collapsed_sections": [],
      "name": "homework3_spring2022.ipynb",
      "provenance": []
    },
    "kernelspec": {
      "display_name": "Python 3",
      "language": "python",
      "name": "python3"
    },
    "language_info": {
      "codemirror_mode": {
        "name": "ipython",
        "version": 3
      },
      "file_extension": ".py",
      "mimetype": "text/x-python",
      "name": "python",
      "nbconvert_exporter": "python",
      "pygments_lexer": "ipython3",
      "version": "3.8.5"
    }
  },
  "nbformat": 4,
  "nbformat_minor": 0
}

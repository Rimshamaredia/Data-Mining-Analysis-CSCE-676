{
  "cells": [
    {
      "cell_type": "markdown",
      "metadata": {
        "id": "FUStugfzWud2"
      },
      "source": [
        "## CSCE 676 :: Data Mining and Analysis :: Texas A&M University :: Spring 2022\n",
        "\n",
        "\n",
        "# Homework 4: The Final One!\n",
        "\n",
        "- **100 points [7% of your final grade]**\n",
        "- **Due April 28, 2022 11:59pm** \n",
        "- (*no submissions accepted after May 3, 2022 by 11:59pm*)\n",
        "\n",
        "*Goals of this homework:* This is an **open-ended** assignment in which you will get to explore embeddings in the context of a large social media dataset. \n",
        "\n",
        "*Submission instructions:* You should post your notebook to canvas (look for the homework 4 assignment there). Name your submission **your-uin_hw4.ipynb**, so for example, my submission would be something like **555001234_hw4.ipynb**. Your notebook should be fully executed when you submit ... so run all the cells for us so we can see the output, then submit that. When you are done, download your notebook from colab and submit it to canvas.\n",
        "\n",
        "*Collaboration declaration:* If you talked to anyone about this homework, please be sure to mention that. Remember to include citations to any sources you use in the homework."
      ]
    },
    {
      "cell_type": "markdown",
      "metadata": {
        "id": "eql4ThhZt5lL"
      },
      "source": [
        "*Write your collaboration/references here*"
      ]
    },
    {
      "cell_type": "markdown",
      "metadata": {
        "id": "3AQt_pCoWueB"
      },
      "source": [
        "## Instructions: \n",
        "\n",
        "For this homework, you will conduct an independent data mining analysis using embeddings of the congressional Twitter dataset we used in Homework 2. The requirements are threefold:\n",
        "\n",
        "*   You must use some (or all) of the US Congress Twitter data we provided in Homework 2. You may augment the data if you like, but that is not required. Also feel free to sample just a portion of the data (you do not have to use all of it).\n",
        "*   You must learn embeddings over the dataset. You may use word2vec to find word embeddings, node2vec to find node embeddings, or some other dense representation. It is up to you, but you must learn some kind of embedding. You may use an existing package to learn these embeddings. Feel free to google around to find the right resource. Some examples include: \n",
        "\n",
        "  * word2vec (python, in Gensim) https://radimrehurek.com/gensim/models/word2vec.html\n",
        "  * doc2vec (python, in Gensim) https://radimrehurek.com/gensim/models/doc2vec.html\n",
        "  * Node2Vec (python) https://github.com/aditya-grover/node2vec\n",
        "  * LINE (C++) https://github.com/tangjianpku/LINE\n",
        "  * DeepWalk (python) https://github.com/phanein/deepwalk, https://pypi.org/project/deepwalk/\n",
        "\n",
        "* Using these embeddings, you must conduct an interesting analysis of the dataset. For example, are there communities of users you can discover in the node embedding space? Are there outliers in the word embedding space? This is the most interesting part, and you should do your best to make this compelling.\n",
        "\n",
        "\n",
        "### In the following, you should answer the questions we pose. Then below, you should include your code, including helpful comments and discussion so we can follow your logic.\n",
        "\n",
        "\n"
      ]
    },
    {
      "cell_type": "markdown",
      "metadata": {
        "id": "Ha2vrLOmWueh"
      },
      "source": [
        "##  Question 1\n",
        "\n",
        "What is your compelling data mining application? That is, what is it you aim to discover?\n",
        "\n",
        "My aim is use most frequent hashtags to find similar trending hashtags, meaningful words and congressman and for twitter users.\n",
        "\n",
        "\n"
      ]
    },
    {
      "cell_type": "markdown",
      "metadata": {
        "id": "spS3kPcxdca-"
      },
      "source": [
        "##  Question 2\n",
        "\n",
        "What data did you use? Describe briefly what aspects of the US Congressional data you used.\n",
        "\n",
        "I have used US congress 400k tweets dataset.\n",
        "1. user tweets : text\n",
        "2. user mentions : entities.user_mentions\n",
        "3. user's names : user.screen_names\n",
        "4. hashtags : user.hashtags\n",
        " \n",
        "\n"
      ]
    },
    {
      "cell_type": "markdown",
      "metadata": {
        "id": "8NzuIWbDdc4v"
      },
      "source": [
        "##  Question 3\n",
        "\n",
        "What embedding method did you use? And why?\n",
        "\n",
        "I have used word2vec because it helps to map relations between popular hastags, tweet words and user mentions.\n",
        "I have kept '@' before user_mentions and kept user's names between curly braces to identilfy them when finding similar items.\n",
        "\n",
        "\n"
      ]
    },
    {
      "cell_type": "markdown",
      "metadata": {
        "id": "IpK3_XVxddKE"
      },
      "source": [
        "##  Question 4\n",
        "\n",
        "How did you apply your embeddings to tackle the problem you posed?\n",
        "\n",
        "First i have only kept meaningful words from tweets by removing stop-words, punctuations etc and then added user_mentions int the form of \"@user\" and then added users who tweeted the tweet in the form of \"{user_name}\" and later tokenized them.\n",
        "\n"
      ]
    },
    {
      "cell_type": "markdown",
      "metadata": {
        "id": "R8IOv0kAddT7"
      },
      "source": [
        "##  Question 5\n",
        "\n",
        "What did you discover? Provide your results and analysis here.\n",
        "\n",
        "\n",
        "While finding similar items with hashtags, model showed relevant trending hastags, users and important key words. \n",
        "\n",
        "For example for **'#Venezuela'** the similar words shown include **#caracas**, **@freddysuperlano** who is venezulan politician etc.\n",
        "\n",
        "**Other important observations**\n",
        "Words that are not in vocabulary of model cannot be used to find similarity.\n",
        "It relies on similar language words\n"
      ]
    },
    {
      "cell_type": "markdown",
      "source": [
        "# Your Analysis"
      ],
      "metadata": {
        "id": "ZiPA3pDgdw4B"
      }
    },
    {
      "cell_type": "code",
      "source": [
        "!pip install pyspark\n",
        "!pip install graphframes\n",
        "!pip install -U -q PyDrive\n",
        "!apt install openjdk-8-jdk-headless -qq\n",
        "!curl -L -o \"/usr/local/lib/python3.7/dist-packages/pyspark/jars/graphframes-0.8.1-spark3.0-s_2.12.jar\" https://repos.spark-packages.org/graphframes/graphframes/0.8.1-spark3.0-s_2.12/graphframes-0.8.1-spark3.0-s_2.12.jar\n",
        "import os\n",
        "os.environ[\"JAVA_HOME\"] = \"/usr/lib/jvm/java-8-openjdk-amd64\""
      ],
      "metadata": {
        "id": "hDUEbVs9d0Nk",
        "colab": {
          "base_uri": "https://localhost:8080/"
        },
        "outputId": "e45a35c5-eea4-4f50-dce3-a8af14a196a2"
      },
      "execution_count": 1,
      "outputs": [
        {
          "output_type": "stream",
          "name": "stdout",
          "text": [
            "Requirement already satisfied: pyspark in /usr/local/lib/python3.7/dist-packages (3.2.1)\n",
            "Requirement already satisfied: py4j==0.10.9.3 in /usr/local/lib/python3.7/dist-packages (from pyspark) (0.10.9.3)\n",
            "Requirement already satisfied: graphframes in /usr/local/lib/python3.7/dist-packages (0.6)\n",
            "Requirement already satisfied: nose in /usr/local/lib/python3.7/dist-packages (from graphframes) (1.3.7)\n",
            "Requirement already satisfied: numpy in /usr/local/lib/python3.7/dist-packages (from graphframes) (1.21.6)\n",
            "openjdk-8-jdk-headless is already the newest version (8u312-b07-0ubuntu1~18.04).\n",
            "The following packages were automatically installed and are no longer required:\n",
            "  libnvidia-common-460 nsight-compute-2020.2.0\n",
            "Use 'apt autoremove' to remove them.\n",
            "0 upgraded, 0 newly installed, 0 to remove and 42 not upgraded.\n",
            "  % Total    % Received % Xferd  Average Speed   Time    Time     Time  Current\n",
            "                                 Dload  Upload   Total   Spent    Left  Speed\n",
            "100  242k  100  242k    0     0  1908k      0 --:--:-- --:--:-- --:--:-- 1908k\n"
          ]
        }
      ]
    },
    {
      "cell_type": "code",
      "source": [
        "import pandas as pd\n",
        "import numpy as np\n",
        "!mkdir us-congress-tweets\n",
        "!wget https://us-congress.s3.amazonaws.com/congress_members.csv -O us-congress-tweets/congress_members.csv\n",
        "!wget https://us-congress.s3.amazonaws.com/tweets-sample-400k.json -O us-congress-tweets/tweets-sample-400k.json\n",
        "!wget https://us-congress.s3.amazonaws.com/user_hashtags-1m.csv -O us-congress-tweets/user_hashtags-1m.csv\n",
        "!wget https://us-congress.s3.amazonaws.com/user_mentions.csv -O us-congress-tweets/user_mentions.csv"
      ],
      "metadata": {
        "colab": {
          "base_uri": "https://localhost:8080/"
        },
        "id": "bF3ikmfoMCTP",
        "outputId": "aabfd518-5661-4dda-e5b7-e165d29221bb"
      },
      "execution_count": 2,
      "outputs": [
        {
          "output_type": "stream",
          "name": "stdout",
          "text": [
            "mkdir: cannot create directory ‘us-congress-tweets’: File exists\n",
            "--2022-05-01 23:50:05--  https://us-congress.s3.amazonaws.com/congress_members.csv\n",
            "Resolving us-congress.s3.amazonaws.com (us-congress.s3.amazonaws.com)... 52.216.110.187\n",
            "Connecting to us-congress.s3.amazonaws.com (us-congress.s3.amazonaws.com)|52.216.110.187|:443... connected.\n",
            "HTTP request sent, awaiting response... 200 OK\n",
            "Length: 13835 (14K) [text/csv]\n",
            "Saving to: ‘us-congress-tweets/congress_members.csv’\n",
            "\n",
            "us-congress-tweets/ 100%[===================>]  13.51K  --.-KB/s    in 0s      \n",
            "\n",
            "2022-05-01 23:50:05 (112 MB/s) - ‘us-congress-tweets/congress_members.csv’ saved [13835/13835]\n",
            "\n",
            "--2022-05-01 23:50:06--  https://us-congress.s3.amazonaws.com/tweets-sample-400k.json\n",
            "Resolving us-congress.s3.amazonaws.com (us-congress.s3.amazonaws.com)... 52.216.110.187\n",
            "Connecting to us-congress.s3.amazonaws.com (us-congress.s3.amazonaws.com)|52.216.110.187|:443... connected.\n",
            "HTTP request sent, awaiting response... 200 OK\n",
            "Length: 202495914 (193M) [application/json]\n",
            "Saving to: ‘us-congress-tweets/tweets-sample-400k.json’\n",
            "\n",
            "us-congress-tweets/ 100%[===================>] 193.11M  16.3MB/s    in 14s     \n",
            "\n",
            "2022-05-01 23:50:20 (13.7 MB/s) - ‘us-congress-tweets/tweets-sample-400k.json’ saved [202495914/202495914]\n",
            "\n",
            "--2022-05-01 23:50:21--  https://us-congress.s3.amazonaws.com/user_hashtags-1m.csv\n",
            "Resolving us-congress.s3.amazonaws.com (us-congress.s3.amazonaws.com)... 52.216.177.155\n",
            "Connecting to us-congress.s3.amazonaws.com (us-congress.s3.amazonaws.com)|52.216.177.155|:443... connected.\n",
            "HTTP request sent, awaiting response... 200 OK\n",
            "Length: 25248825 (24M) [text/csv]\n",
            "Saving to: ‘us-congress-tweets/user_hashtags-1m.csv’\n",
            "\n",
            "us-congress-tweets/ 100%[===================>]  24.08M  7.84MB/s    in 3.1s    \n",
            "\n",
            "2022-05-01 23:50:25 (7.84 MB/s) - ‘us-congress-tweets/user_hashtags-1m.csv’ saved [25248825/25248825]\n",
            "\n",
            "--2022-05-01 23:50:25--  https://us-congress.s3.amazonaws.com/user_mentions.csv\n",
            "Resolving us-congress.s3.amazonaws.com (us-congress.s3.amazonaws.com)... 52.216.177.155\n",
            "Connecting to us-congress.s3.amazonaws.com (us-congress.s3.amazonaws.com)|52.216.177.155|:443... connected.\n",
            "HTTP request sent, awaiting response... 200 OK\n",
            "Length: 56151953 (54M) [text/csv]\n",
            "Saving to: ‘us-congress-tweets/user_mentions.csv’\n",
            "\n",
            "us-congress-tweets/ 100%[===================>]  53.55M  13.3MB/s    in 5.2s    \n",
            "\n",
            "2022-05-01 23:50:31 (10.2 MB/s) - ‘us-congress-tweets/user_mentions.csv’ saved [56151953/56151953]\n",
            "\n"
          ]
        }
      ]
    },
    {
      "cell_type": "code",
      "source": [
        "import pandas as pd\n",
        "import numpy as np\n",
        "import matplotlib.pyplot as plt\n",
        "%matplotlib inline\n",
        "\n",
        "import pyspark\n",
        "from pyspark.sql import *\n",
        "from pyspark.sql.types import *\n",
        "from pyspark import SparkContext, SparkConf\n"
      ],
      "metadata": {
        "id": "9VHIwU3TMF6M"
      },
      "execution_count": 17,
      "outputs": []
    },
    {
      "cell_type": "code",
      "source": [
        "# create a Spark session\n",
        "conf = SparkConf().set(\"spark.ui.port\", \"4050\")\n",
        "\n",
        "# create a Spark context\n",
        "sc = pyspark.SparkContext(conf=conf)\n",
        "spark = SparkSession.builder.getOrCreate()"
      ],
      "metadata": {
        "id": "QoWb6KO3MzG0"
      },
      "execution_count": 4,
      "outputs": []
    },
    {
      "cell_type": "code",
      "source": [
        "from pyspark.sql.types import *\n",
        "import pyspark.sql.functions as F\n",
        "twitter_date_format=\"EEE MMM dd HH:mm:ss ZZZZZ yyyy\"\n",
        "\n",
        "user_schema = StructType([\n",
        "    StructField('created_at', TimestampType(), True),\n",
        "    StructField('followers_count', LongType(), True),\n",
        "    StructField('id', LongType(), True),\n",
        "    StructField('name', StringType(), True),\n",
        "    StructField('screen_name', StringType(), True)\n",
        "])\n",
        "\n",
        "hashtag_schema = ArrayType(StructType([StructField('text', StringType(), True)]))\n",
        "user_mentions_schema = ArrayType(StructType([StructField('id', LongType(), True),\n",
        "                                             StructField('screen_name', StringType(), True)]))\n",
        "entities_schema = StructType([\n",
        "    StructField('hashtags', hashtag_schema, True),\n",
        "    StructField('user_mentions', user_mentions_schema, True)\n",
        "    ])\n",
        "\n",
        "retweeted_status_schema =StructType([        \n",
        "        StructField(\"id\", LongType(), True),\n",
        "        StructField(\"in_reply_to_user_id\", LongType(), True),\n",
        "        StructField(\"in_reply_to_status_id\", LongType(), True),\n",
        "        StructField(\"created_at\", TimestampType(), True),\n",
        "        StructField(\"user\", user_schema)\n",
        "    ])\n",
        "\n",
        "tweet_schema =StructType([\n",
        "        StructField(\"text\", StringType(), True),\n",
        "        StructField(\"id\", LongType(), True),\n",
        "        StructField(\"in_reply_to_user_id\", LongType(), True),\n",
        "        StructField(\"in_reply_to_status_id\", LongType(), True),\n",
        "        StructField(\"created_at\", TimestampType(), True),\n",
        "        StructField(\"user\", user_schema),\n",
        "        StructField(\"entities\", entities_schema),\n",
        "        StructField(\"retweeted_status\", retweeted_status_schema)\n",
        "    ])\n",
        "\n",
        "tweets = spark.read.option(\"timestampFormat\", twitter_date_format)\\\n",
        "                   .json('us-congress-tweets/tweets-sample-400k.json', tweet_schema)\\\n",
        "                   .withColumn('user_id',F.col('user.id'))\n",
        "tweets.printSchema()"
      ],
      "metadata": {
        "colab": {
          "base_uri": "https://localhost:8080/"
        },
        "id": "xkpgFqhgf3uZ",
        "outputId": "235f1b49-025e-476b-c2cd-02c4ddac1dfa"
      },
      "execution_count": 18,
      "outputs": [
        {
          "output_type": "stream",
          "name": "stdout",
          "text": [
            "root\n",
            " |-- text: string (nullable = true)\n",
            " |-- id: long (nullable = true)\n",
            " |-- in_reply_to_user_id: long (nullable = true)\n",
            " |-- in_reply_to_status_id: long (nullable = true)\n",
            " |-- created_at: timestamp (nullable = true)\n",
            " |-- user: struct (nullable = true)\n",
            " |    |-- created_at: timestamp (nullable = true)\n",
            " |    |-- followers_count: long (nullable = true)\n",
            " |    |-- id: long (nullable = true)\n",
            " |    |-- name: string (nullable = true)\n",
            " |    |-- screen_name: string (nullable = true)\n",
            " |-- entities: struct (nullable = true)\n",
            " |    |-- hashtags: array (nullable = true)\n",
            " |    |    |-- element: struct (containsNull = true)\n",
            " |    |    |    |-- text: string (nullable = true)\n",
            " |    |-- user_mentions: array (nullable = true)\n",
            " |    |    |-- element: struct (containsNull = true)\n",
            " |    |    |    |-- id: long (nullable = true)\n",
            " |    |    |    |-- screen_name: string (nullable = true)\n",
            " |-- retweeted_status: struct (nullable = true)\n",
            " |    |-- id: long (nullable = true)\n",
            " |    |-- in_reply_to_user_id: long (nullable = true)\n",
            " |    |-- in_reply_to_status_id: long (nullable = true)\n",
            " |    |-- created_at: timestamp (nullable = true)\n",
            " |    |-- user: struct (nullable = true)\n",
            " |    |    |-- created_at: timestamp (nullable = true)\n",
            " |    |    |-- followers_count: long (nullable = true)\n",
            " |    |    |-- id: long (nullable = true)\n",
            " |    |    |-- name: string (nullable = true)\n",
            " |    |    |-- screen_name: string (nullable = true)\n",
            " |-- user_id: long (nullable = true)\n",
            "\n"
          ]
        }
      ]
    },
    {
      "cell_type": "code",
      "source": [
        "#tweets_df = tweets.toPandas()\n",
        "from pyspark.sql.functions import col\n",
        "\n",
        "\n",
        "tweets_df = tweets.select(col(\"text\"), col(\"user.screen_name\"),col(\"entities.user_mentions.screen_name\").alias(\"user_mentions\"), col(\"entities.hashtags.text\").alias(\"hashtags\"))\n",
        "tweets_df = tweets_df.toPandas()"
      ],
      "metadata": {
        "id": "MS80RJnXNGyd"
      },
      "execution_count": 33,
      "outputs": []
    },
    {
      "cell_type": "code",
      "source": [
        "tweets_df\n"
      ],
      "metadata": {
        "id": "Hjm3j_sM7-hB",
        "colab": {
          "base_uri": "https://localhost:8080/",
          "height": 423
        },
        "outputId": "43fcb446-9a88-4108-b038-4f08ae4da091"
      },
      "execution_count": 34,
      "outputs": [
        {
          "output_type": "execute_result",
          "data": {
            "text/plain": [
              "                                                     text      screen_name  \\\n",
              "0       RT @maddow: \"I hear a lot about about lack of ...         quazy101   \n",
              "1       @ChuckGrassley @SenateMajLdr It's time for you...      sparadiso11   \n",
              "2       RT @cm_merlin: @funder @JeffFlake @lisamurkows...   disqualify_gop   \n",
              "3       RT @SenJeffMerkley: I read the FBI report.  Th...   c_millerhorton   \n",
              "4       RT @SenJeffMerkley: I read the FBI report.  Th...       philipsgma   \n",
              "...                                                   ...              ...   \n",
              "399995  @tribelaw @RepRaskin @RepAdamSchiff @RepJerryN...            2know   \n",
              "399996  RT @RepMarkMeadows: A beyond disgraceful state...        pigletjay   \n",
              "399997  @Bilbre1 @SenBlumenthal @IvankaTrump Always wi...        AreYouIn2   \n",
              "399998  RT @GiffordsCourage: Summer weekends should be...        pkcampsen   \n",
              "399999  RT @Fifty1stState: @TheHill Hill TV Exclusive:...  SenseOf_OUTRAGE   \n",
              "\n",
              "                                            user_mentions hashtags  \n",
              "0                                                [maddow]       []  \n",
              "1                           [ChuckGrassley, senatemajldr]       []  \n",
              "2       [cm_merlin, funder, JeffFlake, lisamurkowski, ...       []  \n",
              "3                                        [SenJeffMerkley]       []  \n",
              "4                                        [SenJeffMerkley]       []  \n",
              "...                                                   ...      ...  \n",
              "399995  [tribelaw, RepRaskin, RepAdamSchiff, RepJerryN...       []  \n",
              "399996                                   [RepMarkMeadows]       []  \n",
              "399997              [Bilbre1, SenBlumenthal, IvankaTrump]       []  \n",
              "399998                                  [GiffordsCourage]       []  \n",
              "399999  [Fifty1stState, thehill, BernieSanders, SenSan...       []  \n",
              "\n",
              "[400000 rows x 4 columns]"
            ],
            "text/html": [
              "\n",
              "  <div id=\"df-939dd684-1b7e-4d16-b9dd-b7dc1a89aecf\">\n",
              "    <div class=\"colab-df-container\">\n",
              "      <div>\n",
              "<style scoped>\n",
              "    .dataframe tbody tr th:only-of-type {\n",
              "        vertical-align: middle;\n",
              "    }\n",
              "\n",
              "    .dataframe tbody tr th {\n",
              "        vertical-align: top;\n",
              "    }\n",
              "\n",
              "    .dataframe thead th {\n",
              "        text-align: right;\n",
              "    }\n",
              "</style>\n",
              "<table border=\"1\" class=\"dataframe\">\n",
              "  <thead>\n",
              "    <tr style=\"text-align: right;\">\n",
              "      <th></th>\n",
              "      <th>text</th>\n",
              "      <th>screen_name</th>\n",
              "      <th>user_mentions</th>\n",
              "      <th>hashtags</th>\n",
              "    </tr>\n",
              "  </thead>\n",
              "  <tbody>\n",
              "    <tr>\n",
              "      <th>0</th>\n",
              "      <td>RT @maddow: \"I hear a lot about about lack of ...</td>\n",
              "      <td>quazy101</td>\n",
              "      <td>[maddow]</td>\n",
              "      <td>[]</td>\n",
              "    </tr>\n",
              "    <tr>\n",
              "      <th>1</th>\n",
              "      <td>@ChuckGrassley @SenateMajLdr It's time for you...</td>\n",
              "      <td>sparadiso11</td>\n",
              "      <td>[ChuckGrassley, senatemajldr]</td>\n",
              "      <td>[]</td>\n",
              "    </tr>\n",
              "    <tr>\n",
              "      <th>2</th>\n",
              "      <td>RT @cm_merlin: @funder @JeffFlake @lisamurkows...</td>\n",
              "      <td>disqualify_gop</td>\n",
              "      <td>[cm_merlin, funder, JeffFlake, lisamurkowski, ...</td>\n",
              "      <td>[]</td>\n",
              "    </tr>\n",
              "    <tr>\n",
              "      <th>3</th>\n",
              "      <td>RT @SenJeffMerkley: I read the FBI report.  Th...</td>\n",
              "      <td>c_millerhorton</td>\n",
              "      <td>[SenJeffMerkley]</td>\n",
              "      <td>[]</td>\n",
              "    </tr>\n",
              "    <tr>\n",
              "      <th>4</th>\n",
              "      <td>RT @SenJeffMerkley: I read the FBI report.  Th...</td>\n",
              "      <td>philipsgma</td>\n",
              "      <td>[SenJeffMerkley]</td>\n",
              "      <td>[]</td>\n",
              "    </tr>\n",
              "    <tr>\n",
              "      <th>...</th>\n",
              "      <td>...</td>\n",
              "      <td>...</td>\n",
              "      <td>...</td>\n",
              "      <td>...</td>\n",
              "    </tr>\n",
              "    <tr>\n",
              "      <th>399995</th>\n",
              "      <td>@tribelaw @RepRaskin @RepAdamSchiff @RepJerryN...</td>\n",
              "      <td>2know</td>\n",
              "      <td>[tribelaw, RepRaskin, RepAdamSchiff, RepJerryN...</td>\n",
              "      <td>[]</td>\n",
              "    </tr>\n",
              "    <tr>\n",
              "      <th>399996</th>\n",
              "      <td>RT @RepMarkMeadows: A beyond disgraceful state...</td>\n",
              "      <td>pigletjay</td>\n",
              "      <td>[RepMarkMeadows]</td>\n",
              "      <td>[]</td>\n",
              "    </tr>\n",
              "    <tr>\n",
              "      <th>399997</th>\n",
              "      <td>@Bilbre1 @SenBlumenthal @IvankaTrump Always wi...</td>\n",
              "      <td>AreYouIn2</td>\n",
              "      <td>[Bilbre1, SenBlumenthal, IvankaTrump]</td>\n",
              "      <td>[]</td>\n",
              "    </tr>\n",
              "    <tr>\n",
              "      <th>399998</th>\n",
              "      <td>RT @GiffordsCourage: Summer weekends should be...</td>\n",
              "      <td>pkcampsen</td>\n",
              "      <td>[GiffordsCourage]</td>\n",
              "      <td>[]</td>\n",
              "    </tr>\n",
              "    <tr>\n",
              "      <th>399999</th>\n",
              "      <td>RT @Fifty1stState: @TheHill Hill TV Exclusive:...</td>\n",
              "      <td>SenseOf_OUTRAGE</td>\n",
              "      <td>[Fifty1stState, thehill, BernieSanders, SenSan...</td>\n",
              "      <td>[]</td>\n",
              "    </tr>\n",
              "  </tbody>\n",
              "</table>\n",
              "<p>400000 rows × 4 columns</p>\n",
              "</div>\n",
              "      <button class=\"colab-df-convert\" onclick=\"convertToInteractive('df-939dd684-1b7e-4d16-b9dd-b7dc1a89aecf')\"\n",
              "              title=\"Convert this dataframe to an interactive table.\"\n",
              "              style=\"display:none;\">\n",
              "        \n",
              "  <svg xmlns=\"http://www.w3.org/2000/svg\" height=\"24px\"viewBox=\"0 0 24 24\"\n",
              "       width=\"24px\">\n",
              "    <path d=\"M0 0h24v24H0V0z\" fill=\"none\"/>\n",
              "    <path d=\"M18.56 5.44l.94 2.06.94-2.06 2.06-.94-2.06-.94-.94-2.06-.94 2.06-2.06.94zm-11 1L8.5 8.5l.94-2.06 2.06-.94-2.06-.94L8.5 2.5l-.94 2.06-2.06.94zm10 10l.94 2.06.94-2.06 2.06-.94-2.06-.94-.94-2.06-.94 2.06-2.06.94z\"/><path d=\"M17.41 7.96l-1.37-1.37c-.4-.4-.92-.59-1.43-.59-.52 0-1.04.2-1.43.59L10.3 9.45l-7.72 7.72c-.78.78-.78 2.05 0 2.83L4 21.41c.39.39.9.59 1.41.59.51 0 1.02-.2 1.41-.59l7.78-7.78 2.81-2.81c.8-.78.8-2.07 0-2.86zM5.41 20L4 18.59l7.72-7.72 1.47 1.35L5.41 20z\"/>\n",
              "  </svg>\n",
              "      </button>\n",
              "      \n",
              "  <style>\n",
              "    .colab-df-container {\n",
              "      display:flex;\n",
              "      flex-wrap:wrap;\n",
              "      gap: 12px;\n",
              "    }\n",
              "\n",
              "    .colab-df-convert {\n",
              "      background-color: #E8F0FE;\n",
              "      border: none;\n",
              "      border-radius: 50%;\n",
              "      cursor: pointer;\n",
              "      display: none;\n",
              "      fill: #1967D2;\n",
              "      height: 32px;\n",
              "      padding: 0 0 0 0;\n",
              "      width: 32px;\n",
              "    }\n",
              "\n",
              "    .colab-df-convert:hover {\n",
              "      background-color: #E2EBFA;\n",
              "      box-shadow: 0px 1px 2px rgba(60, 64, 67, 0.3), 0px 1px 3px 1px rgba(60, 64, 67, 0.15);\n",
              "      fill: #174EA6;\n",
              "    }\n",
              "\n",
              "    [theme=dark] .colab-df-convert {\n",
              "      background-color: #3B4455;\n",
              "      fill: #D2E3FC;\n",
              "    }\n",
              "\n",
              "    [theme=dark] .colab-df-convert:hover {\n",
              "      background-color: #434B5C;\n",
              "      box-shadow: 0px 1px 3px 1px rgba(0, 0, 0, 0.15);\n",
              "      filter: drop-shadow(0px 1px 2px rgba(0, 0, 0, 0.3));\n",
              "      fill: #FFFFFF;\n",
              "    }\n",
              "  </style>\n",
              "\n",
              "      <script>\n",
              "        const buttonEl =\n",
              "          document.querySelector('#df-939dd684-1b7e-4d16-b9dd-b7dc1a89aecf button.colab-df-convert');\n",
              "        buttonEl.style.display =\n",
              "          google.colab.kernel.accessAllowed ? 'block' : 'none';\n",
              "\n",
              "        async function convertToInteractive(key) {\n",
              "          const element = document.querySelector('#df-939dd684-1b7e-4d16-b9dd-b7dc1a89aecf');\n",
              "          const dataTable =\n",
              "            await google.colab.kernel.invokeFunction('convertToInteractive',\n",
              "                                                     [key], {});\n",
              "          if (!dataTable) return;\n",
              "\n",
              "          const docLinkHtml = 'Like what you see? Visit the ' +\n",
              "            '<a target=\"_blank\" href=https://colab.research.google.com/notebooks/data_table.ipynb>data table notebook</a>'\n",
              "            + ' to learn more about interactive tables.';\n",
              "          element.innerHTML = '';\n",
              "          dataTable['output_type'] = 'display_data';\n",
              "          await google.colab.output.renderOutput(dataTable, element);\n",
              "          const docLink = document.createElement('div');\n",
              "          docLink.innerHTML = docLinkHtml;\n",
              "          element.appendChild(docLink);\n",
              "        }\n",
              "      </script>\n",
              "    </div>\n",
              "  </div>\n",
              "  "
            ]
          },
          "metadata": {},
          "execution_count": 34
        }
      ]
    },
    {
      "cell_type": "code",
      "source": [
        "import re \n",
        "\n",
        "tweets_df['c_text'] = tweets_df['text'].str.replace(r'@[A-Za-z0-9]+', '',regex=True) #remove handles\n",
        "tweets_df['c_text'] = tweets_df['c_text'].replace('RT', '', regex=True) #remove word before colon\n",
        "tweets_df['c_text'] = tweets_df['c_text'].str.replace(\"[^a-zA-Z#]\", \" \") #remove punctuations\n",
        "\n",
        "tweets_df['c_text'] = tweets_df['c_text'].str.replace(\"RT\", \"\")"
      ],
      "metadata": {
        "colab": {
          "base_uri": "https://localhost:8080/"
        },
        "id": "JToIP0728adh",
        "outputId": "d04f3101-2111-4eab-9619-2e419eaa456b"
      },
      "execution_count": 35,
      "outputs": [
        {
          "output_type": "stream",
          "name": "stderr",
          "text": [
            "/usr/local/lib/python3.7/dist-packages/ipykernel_launcher.py:5: FutureWarning: The default value of regex will change from True to False in a future version.\n",
            "  \"\"\"\n"
          ]
        }
      ]
    },
    {
      "cell_type": "code",
      "source": [
        "import os\n",
        "import nltk\n",
        "nltk.download('stopwords')\n",
        "from nltk.corpus import stopwords\n",
        "stop = stopwords.words('english')\n",
        "tweets_df = tweets_df.dropna(axis=0, subset=['c_text'])\n",
        "tweets_df['c_text'] = tweets_df['c_text'].apply(lambda x: [item for item in x.split() if item not in stop])"
      ],
      "metadata": {
        "id": "i20xWCc8kewR",
        "colab": {
          "base_uri": "https://localhost:8080/"
        },
        "outputId": "3acdf773-3505-4a67-a536-7ba8de4e7ccf"
      },
      "execution_count": 36,
      "outputs": [
        {
          "output_type": "stream",
          "name": "stdout",
          "text": [
            "[nltk_data] Downloading package stopwords to /root/nltk_data...\n",
            "[nltk_data]   Package stopwords is already up-to-date!\n"
          ]
        },
        {
          "output_type": "stream",
          "name": "stderr",
          "text": [
            "/usr/local/lib/python3.7/dist-packages/ipykernel_launcher.py:7: SettingWithCopyWarning: \n",
            "A value is trying to be set on a copy of a slice from a DataFrame.\n",
            "Try using .loc[row_indexer,col_indexer] = value instead\n",
            "\n",
            "See the caveats in the documentation: https://pandas.pydata.org/pandas-docs/stable/user_guide/indexing.html#returning-a-view-versus-a-copy\n",
            "  import sys\n"
          ]
        }
      ]
    },
    {
      "cell_type": "code",
      "source": [
        "\n",
        "tweets_df['user_mentions'] = tweets_df['user_mentions'].apply(lambda x:['@' + item for item in x]) # @ represents mentions\n",
        "tweets_df['hashtags'] = tweets_df['hashtags'].apply(lambda x:['#' + item for item in x])\n",
        "tweets_df['screen_name'] = '{' +  tweets_df['screen_name'] + '}' #bracket shows the name of the user"
      ],
      "metadata": {
        "colab": {
          "base_uri": "https://localhost:8080/"
        },
        "id": "pFabeZoA8muB",
        "outputId": "3b68ed67-9fd4-4f25-811e-cafa37d7829d"
      },
      "execution_count": 37,
      "outputs": [
        {
          "output_type": "stream",
          "name": "stderr",
          "text": [
            "/usr/local/lib/python3.7/dist-packages/ipykernel_launcher.py:2: SettingWithCopyWarning: \n",
            "A value is trying to be set on a copy of a slice from a DataFrame.\n",
            "Try using .loc[row_indexer,col_indexer] = value instead\n",
            "\n",
            "See the caveats in the documentation: https://pandas.pydata.org/pandas-docs/stable/user_guide/indexing.html#returning-a-view-versus-a-copy\n",
            "  \n",
            "/usr/local/lib/python3.7/dist-packages/ipykernel_launcher.py:3: SettingWithCopyWarning: \n",
            "A value is trying to be set on a copy of a slice from a DataFrame.\n",
            "Try using .loc[row_indexer,col_indexer] = value instead\n",
            "\n",
            "See the caveats in the documentation: https://pandas.pydata.org/pandas-docs/stable/user_guide/indexing.html#returning-a-view-versus-a-copy\n",
            "  This is separate from the ipykernel package so we can avoid doing imports until\n",
            "/usr/local/lib/python3.7/dist-packages/ipykernel_launcher.py:4: SettingWithCopyWarning: \n",
            "A value is trying to be set on a copy of a slice from a DataFrame.\n",
            "Try using .loc[row_indexer,col_indexer] = value instead\n",
            "\n",
            "See the caveats in the documentation: https://pandas.pydata.org/pandas-docs/stable/user_guide/indexing.html#returning-a-view-versus-a-copy\n",
            "  after removing the cwd from sys.path.\n"
          ]
        }
      ]
    },
    {
      "cell_type": "code",
      "source": [
        "tweets_df['c_text'] = tweets_df['c_text'] + tweets_df['user_mentions'] + tweets_df['hashtags']"
      ],
      "metadata": {
        "id": "A3YQp_2e8vEf",
        "colab": {
          "base_uri": "https://localhost:8080/"
        },
        "outputId": "b6841a5f-78a8-4ab3-c46f-481d710b3d32"
      },
      "execution_count": 40,
      "outputs": [
        {
          "output_type": "stream",
          "name": "stderr",
          "text": [
            "/usr/local/lib/python3.7/dist-packages/ipykernel_launcher.py:1: SettingWithCopyWarning: \n",
            "A value is trying to be set on a copy of a slice from a DataFrame.\n",
            "Try using .loc[row_indexer,col_indexer] = value instead\n",
            "\n",
            "See the caveats in the documentation: https://pandas.pydata.org/pandas-docs/stable/user_guide/indexing.html#returning-a-view-versus-a-copy\n",
            "  \"\"\"Entry point for launching an IPython kernel.\n"
          ]
        }
      ]
    },
    {
      "cell_type": "code",
      "source": [
        "for i in tweets_df.index:\n",
        "  tweets_df['c_text'][i].append(tweets_df['screen_name'][i])\n"
      ],
      "metadata": {
        "id": "FDRW0Y6z-8Xc"
      },
      "execution_count": 41,
      "outputs": []
    },
    {
      "cell_type": "code",
      "source": [
        "\n",
        "tokenize = tweets_df['c_text']"
      ],
      "metadata": {
        "id": "-o9hD49yA_P9"
      },
      "execution_count": 42,
      "outputs": []
    },
    {
      "cell_type": "code",
      "source": [
        "import gensim\n",
        "from sklearn.model_selection import train_test_split\n",
        "from gensim.utils import simple_preprocess\n",
        "from gensim.models import Word2Vec\n",
        "w2vec_model= Word2Vec(tokenize,min_count = 1, size = 100, window = 5, sg = 1)\n",
        "w2vec_model.train(tokenize,total_examples= len(tweets_df['text']),epochs=20)\n"
      ],
      "metadata": {
        "colab": {
          "base_uri": "https://localhost:8080/"
        },
        "id": "w5SiBBA-0dbG",
        "outputId": "c96220b4-1600-45ad-bb12-8af3749e5e52"
      },
      "execution_count": 43,
      "outputs": [
        {
          "output_type": "execute_result",
          "data": {
            "text/plain": [
              "(75585122, 79906580)"
            ]
          },
          "metadata": {},
          "execution_count": 43
        }
      ]
    },
    {
      "cell_type": "code",
      "source": [
        "\n",
        "frequent_hashtags = tweets_df['hashtags'].value_counts()[:6].index.tolist()\n",
        "# user_mentions = ['@NancyPelosi','@LindseyGrahamSc','@SenSchumer','@RepAdamSchiff']\n",
        "# # for user in user_mentions:\n",
        "# #    print(\"Top 10 similar items to \" + user + \" : \" + str(w2vec_model.most_similar(user, topn=10))[1:-1])\n",
        "# print(w2vec_model.most_similar('@NancyPelosi', topn=10))\n",
        "# print(w2vec_model.most_similar('@SenSchumer', topn=10))\n",
        "# print(w2vec_model.most_similar('@RepAdamSchiff', topn=10))"
      ],
      "metadata": {
        "id": "iWsaqPcOKt_u"
      },
      "execution_count": 50,
      "outputs": []
    },
    {
      "cell_type": "code",
      "source": [
        "\n",
        "frequent_hashtags = [ele for ele in frequent_hashtags if ele != []]\n",
        "frequent_hashtags"
      ],
      "metadata": {
        "colab": {
          "base_uri": "https://localhost:8080/"
        },
        "id": "GoiqqP-jq0Jr",
        "outputId": "fac7780f-f1a5-42b5-9d1c-c861e14436d6"
      },
      "execution_count": 53,
      "outputs": [
        {
          "output_type": "execute_result",
          "data": {
            "text/plain": [
              "[['#Venezuela'],\n",
              " ['#MoscowMitch'],\n",
              " ['#TrumpShutdown'],\n",
              " ['#MuellerReport'],\n",
              " ['#GreenNewDeal']]"
            ]
          },
          "metadata": {},
          "execution_count": 53
        }
      ]
    },
    {
      "cell_type": "code",
      "source": [
        "print(w2vec_model.wv.most_similar('#Venezuela', topn=5))\n",
        "print(w2vec_model.wv.most_similar('#MoscowMitch', topn=5))\n",
        "print(w2vec_model.wv.most_similar('#TrumpShutdown', topn=5))\n",
        "print(w2vec_model.wv.most_similar('#MuellerReport', topn=5))\n",
        "print(w2vec_model.wv.most_similar('#GreenNewDeal', topn=5))\n"
      ],
      "metadata": {
        "colab": {
          "base_uri": "https://localhost:8080/"
        },
        "id": "vbRqO4IvriQO",
        "outputId": "01e6727f-08fc-4d0e-82d7-cf8449b1c861"
      },
      "execution_count": 57,
      "outputs": [
        {
          "output_type": "stream",
          "name": "stdout",
          "text": [
            "[('#Caracas', 0.822726309299469), ('#Maduro', 0.8165556192398071), ('#MaduroRegime', 0.8089548349380493), ('#Colombia', 0.7877011299133301), ('@freddysuperlano', 0.7836524844169617)]\n",
            "[('#MoscowMitchTraitor', 0.7722510099411011), ('#MoscowMitchMcTraitor', 0.7438052892684937), ('#MassacreMitch', 0.7416695356369019), ('#MoscowMitchIsCorrupt', 0.7376363277435303), ('#MoscowMitchMcTreason', 0.7309906482696533)]\n",
            "[('#MitchMcConnellShutdown', 0.7082730531692505), ('#FakeCrisis', 0.6943866014480591), ('#TrumpFactCheck', 0.6915230751037598), ('#ChronicLiar', 0.6905205249786377), ('#DistractorInChief', 0.6876767873764038)]\n",
            "[('#TweetTheMuellerReport', 0.7014746069908142), ('LlwtCb', 0.6853803396224976), ('#ColusionDelusion', 0.683164119720459), ('pylV', 0.6779931783676147), ('#JustImpeach', 0.6736583709716797)]\n",
            "[('@sunrisemvmt', 0.677780270576477), ('disres', 0.659604549407959), ('@DSA_Enviro', 0.6444772481918335), ('#AOCCult', 0.6392322778701782), ('pUKZOHGIst', 0.6391947865486145)]\n"
          ]
        }
      ]
    }
  ],
  "metadata": {
    "colab": {
      "collapsed_sections": [],
      "name": "homework_4_2022.ipynb",
      "provenance": []
    },
    "kernelspec": {
      "display_name": "Python 3",
      "language": "python",
      "name": "python3"
    },
    "language_info": {
      "codemirror_mode": {
        "name": "ipython",
        "version": 3
      },
      "file_extension": ".py",
      "mimetype": "text/x-python",
      "name": "python",
      "nbconvert_exporter": "python",
      "pygments_lexer": "ipython3",
      "version": "3.8.8"
    }
  },
  "nbformat": 4,
  "nbformat_minor": 0
}
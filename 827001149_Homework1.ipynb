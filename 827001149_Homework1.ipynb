{
 "cells": [
  {
   "cell_type": "markdown",
   "metadata": {
    "id": "Ak3SqhmRDYKW"
   },
   "source": [
    "## CSCE 676 :: Data Mining and Analysis :: Texas A&M University :: Spring 2022\n",
    "\n",
    "\n",
    "# Homework 1: Let's GOOOOO!\n",
    "\n",
    "- **100 points [7% of your final grade]**\n",
    "- **Due Tuesday, February 13 by 11:59pm**\n",
    "\n",
    "***Goals of this homework:***\n",
    "1. Collect data from the web, clean it, and then make some observations based on exploratory data analysis\n",
    "2. Understand and implement the classic apriori algorithm and extensions to find the association rules in a movie rating dataset\n",
    "\n",
    "***Submission instructions:***\n",
    "\n",
    "You should post your notebook to Canvas (look for the homework 1 assignment there). Please name your submission **your-uin_hw1.ipynb**, so for example, my submission would be something like **555001234_hw1.ipynb**. Your notebook should be fully executed when you submit ... so run all the cells for us so we can see the output, then submit that. \n",
    "\n",
    "***Late Days:***\n",
    "\n",
    "As a reminder, you may use up to three of your late days on this homework, meaning the latest we will accept it is February 16 by 11:59pm.\n",
    "\n",
    "***Collaboration declaration:***\n",
    "\n",
    "If you worked with someone on this homework, please be sure to mention that. Remember to include citations to any sources you use in the homework."
   ]
  },
  {
   "cell_type": "markdown",
   "metadata": {
    "id": "iiUzZn-6Ecs8"
   },
   "source": [
    "## (50 points) Part 1: UFOs"
   ]
  },
  {
   "cell_type": "markdown",
   "metadata": {
    "id": "oHXUGi-gm88u"
   },
   "source": [
    "### (10pts) Part 1a: UFOs are Out There, But First I Need to Store them Locally\n",
    "\n",
    "For this first part, we're going to collect evidence of UFO sightings from the **National UFO Reporting Center**. Specifically, we're going \n",
    "to focus only on UFO sightings in Texas, as reported at this webpage:\n",
    "\n",
    "* http://www.nuforc.org/webreports/ndxlTX.html\n",
    "\n",
    "Recall that you can view the source of a webpage in Chrome under View &rarr; Developer &rarr; View Source. \n",
    "You'll notice, however, that this raw HTML is not in our friendly csv format and so will require some initial pre-processing. \n",
    "In particular, we're going to use the Python libraries **[requests](http://docs.python-requests.org/en/master/)** \n",
    "and **[beautiful soup](https://www.crummy.com/software/BeautifulSoup/)** to convert this UFO data from its original HTML format into csv. \n",
    "\n",
    "Hints:\n",
    "* You'll notice that the column headers are in the `<TH>` tags.\n",
    "* The values are in the `<TD>` tags.\n",
    "* In beautiful soup, something like `.find_all('td')` may help you.\n",
    "* To write the csv, you might want to `import csv` and take a look at the functions provided.\n",
    "* If you google for \"beautifulsoup table to csv\" you should find some nice starting points.  Note, however, that you may not use an existing method that auto-magically converts the HTML into csv; we expect you to write your own code. If you borrow some elements from online resources, you should cite them in the comments. "
   ]
  },
  {
   "cell_type": "code",
   "execution_count": 1,
   "metadata": {
    "id": "R7e6aYoQEYTT"
   },
   "outputs": [],
   "source": [
    "# your code here\n",
    "# you should use requests to get the webpage, then extract \n",
    "# the appropriate column headings and rows\n",
    "#Ref : https://www.geeksforgeeks.org/convert-html-table-into-csv-file-in-python/\n",
    "import requests\n",
    "from bs4 import BeautifulSoup\n",
    "import pandas as pd\n",
    "import csv\n",
    "import numpy as np\n",
    "\n",
    "page = requests.get(\"http://www.nuforc.org/webreports/ndxlTX.html\")\n",
    "\n",
    "soup = BeautifulSoup(page.text, 'html.parser')\n",
    "\n",
    "count=1\n",
    "table ={}\n",
    "columnNames = []\n",
    "    \n",
    "for row in soup.find_all('tr'):\n",
    "    temp = []\n",
    "    for c in row.find_all('th'):\n",
    "        columnNames.append(c.text)\n",
    "        temp.append(c.text)\n",
    "    for c in row.find_all('td'):\n",
    "        temp.append(c.text)\n",
    "    table[count]=temp\n",
    "    count+=1\n",
    "# then write this out to csv to a local file called 'ufos_in_texas.csv'"
   ]
  },
  {
   "cell_type": "markdown",
   "metadata": {
    "id": "BfQTWXRfnEZN"
   },
   "source": [
    "Once you have your local csv file, you should read it in and then issue the .head() command."
   ]
  },
  {
   "cell_type": "code",
   "execution_count": 2,
   "metadata": {
    "id": "lGjL27fsnEIu"
   },
   "outputs": [
    {
     "data": {
      "text/html": [
       "<div>\n",
       "<style scoped>\n",
       "    .dataframe tbody tr th:only-of-type {\n",
       "        vertical-align: middle;\n",
       "    }\n",
       "\n",
       "    .dataframe tbody tr th {\n",
       "        vertical-align: top;\n",
       "    }\n",
       "\n",
       "    .dataframe thead th {\n",
       "        text-align: right;\n",
       "    }\n",
       "</style>\n",
       "<table border=\"1\" class=\"dataframe\">\n",
       "  <thead>\n",
       "    <tr style=\"text-align: right;\">\n",
       "      <th></th>\n",
       "      <th>Date / Time</th>\n",
       "      <th>City</th>\n",
       "      <th>State</th>\n",
       "      <th>Shape</th>\n",
       "      <th>Duration</th>\n",
       "      <th>Summary</th>\n",
       "      <th>Posted</th>\n",
       "    </tr>\n",
       "  </thead>\n",
       "  <tbody>\n",
       "    <tr>\n",
       "      <th>0</th>\n",
       "      <td>12/14/21 22:30</td>\n",
       "      <td>Dallas</td>\n",
       "      <td>TX</td>\n",
       "      <td>Formation</td>\n",
       "      <td>8 minutes</td>\n",
       "      <td>It was loud like rocket in a V shape.</td>\n",
       "      <td>12/19/21</td>\n",
       "    </tr>\n",
       "    <tr>\n",
       "      <th>1</th>\n",
       "      <td>12/12/21 17:30</td>\n",
       "      <td>Dallas</td>\n",
       "      <td>TX</td>\n",
       "      <td>Light</td>\n",
       "      <td>10 minutes</td>\n",
       "      <td>A light that was fading in and out.</td>\n",
       "      <td>12/19/21</td>\n",
       "    </tr>\n",
       "    <tr>\n",
       "      <th>2</th>\n",
       "      <td>12/9/21 16:30</td>\n",
       "      <td>Lazerbet</td>\n",
       "      <td>TX</td>\n",
       "      <td>Other</td>\n",
       "      <td>Google maping</td>\n",
       "      <td>It's big</td>\n",
       "      <td>12/19/21</td>\n",
       "    </tr>\n",
       "    <tr>\n",
       "      <th>3</th>\n",
       "      <td>12/9/21 16:00</td>\n",
       "      <td>Lazerbet</td>\n",
       "      <td>TX</td>\n",
       "      <td>Triangle</td>\n",
       "      <td>NaN</td>\n",
       "      <td>Unhuman</td>\n",
       "      <td>12/19/21</td>\n",
       "    </tr>\n",
       "    <tr>\n",
       "      <th>4</th>\n",
       "      <td>12/7/21 17:30</td>\n",
       "      <td>Oak Cliff</td>\n",
       "      <td>TX</td>\n",
       "      <td>Unknown</td>\n",
       "      <td>NaN</td>\n",
       "      <td>I was randomly taking pictures of the clouds a...</td>\n",
       "      <td>12/19/21</td>\n",
       "    </tr>\n",
       "  </tbody>\n",
       "</table>\n",
       "</div>"
      ],
      "text/plain": [
       "      Date / Time       City State      Shape       Duration  \\\n",
       "0  12/14/21 22:30     Dallas    TX  Formation      8 minutes   \n",
       "1  12/12/21 17:30     Dallas    TX      Light     10 minutes   \n",
       "2   12/9/21 16:30   Lazerbet    TX      Other  Google maping   \n",
       "3   12/9/21 16:00   Lazerbet    TX   Triangle            NaN   \n",
       "4   12/7/21 17:30  Oak Cliff    TX    Unknown            NaN   \n",
       "\n",
       "                                             Summary    Posted  \n",
       "0              It was loud like rocket in a V shape.  12/19/21  \n",
       "1                A light that was fading in and out.  12/19/21  \n",
       "2                                           It's big  12/19/21  \n",
       "3                                            Unhuman  12/19/21  \n",
       "4  I was randomly taking pictures of the clouds a...  12/19/21  "
      ]
     },
     "execution_count": 2,
     "metadata": {},
     "output_type": "execute_result"
    }
   ],
   "source": [
    "df=pd.DataFrame.from_dict(table,orient='index',columns = columnNames)\n",
    "df = df.drop(1) #delete row that is a copy of the column names\n",
    "#save dataframe to a csv file\n",
    "df.to_csv (r'ufo_texas.csv', index = None, header=True)\n",
    "# your code here\n",
    "\n",
    "data = pd.read_csv(\"ufo_texas.csv\")\n",
    "data.head()"
   ]
  },
  {
   "cell_type": "markdown",
   "metadata": {
    "id": "kCSVPkNOnYfI"
   },
   "source": [
    "### (15pts) Part 1b: UFOs are a Mess! Time to Clean Up!\n",
    "\n",
    "Okay, now we move to the fun part -- making sense of this messy data. These UFO reports are user-generated with little input validation. As a result, you will notice lots of oddities. \n",
    "\n",
    "Let's begin by focusing on the **Duration** column. As a first pass, let's make a grossly simplifying assumption -- that the only valid data is any duration that is of the form:  \n",
    "\n",
    "* 1 second\n",
    "* 2 seconds\n",
    "* ...\n",
    "* 1 minute\n",
    "* 2 minutes\n",
    "* ...\n",
    "* 1 hour\n",
    "* 2 hours \n",
    "* ...\n",
    "* 1 day\n",
    "* 2 days \n",
    "* ...\n",
    "\n",
    "That is, we will only accept positive integers followed by a space, followed by a properly spelled unit. Every other entry is invalid. For example, that means these are all invalid durations:\n",
    "\n",
    "* 1s\n",
    "* 2 min.\n",
    "* 2-3 seconds\n",
    "* 10-15min\n",
    "* 1 minute+\n",
    "* 30 minutes and longer\n",
    "* about 1.5 minutes\n",
    "\n",
    "You may find the **pandas** library to be very helpful for this part. Create a new pandas dataframe that only includes sightings with these values, **where you convert all durations into seconds**. How many total rows are there in the original dataset? How many rows in your new 'validated' dataset? Report the basic statistics of the duration in your new 'validated' dataset (report maximum, minimum, mean, and standard deviation values of duration). At last, plot a boxplot of the duration (in seconds) in your 'validated' dataset."
   ]
  },
  {
   "cell_type": "code",
   "execution_count": 3,
   "metadata": {
    "id": "wMC-mq6wEnnY"
   },
   "outputs": [],
   "source": [
    "Copy_data = data.copy(deep=True)\n",
    "import re\n",
    "\n",
    "def check_valid(z):\n",
    "    z = re.match('^\\d+\\s+(second|seconds|minute|minutes|hour|hours|day|days|week|weeks)',z)\n",
    "    if('None' not in str(type(z))):\n",
    "        return(z.group(0))\n",
    "\n",
    "#removing invalid durations\n",
    "def Clean_data(data):\n",
    "    valid_data = []\n",
    "    for i,row in data.iterrows():\n",
    "        if(type(row['Duration'])!='float'):\n",
    "            if check_valid(str(row['Duration'])):\n",
    "                valid_data.append(i)\n",
    "    return valid_data\n",
    "\n",
    "rows = Clean_data(Copy_data)\n",
    "\n",
    "for index, row in Copy_data.iterrows():\n",
    "    if index not in rows:\n",
    "        Copy_data.drop(index,inplace=True)\n",
    "                "
   ]
  },
  {
   "cell_type": "code",
   "execution_count": 4,
   "metadata": {
    "id": "6Yio0HTHncIz"
   },
   "outputs": [
    {
     "name": "stdout",
     "output_type": "stream",
     "text": [
      "Original Dataset (5631, 7)\n",
      "Validated Dataset (2902, 7)\n"
     ]
    },
    {
     "data": {
      "text/html": [
       "<div>\n",
       "<style scoped>\n",
       "    .dataframe tbody tr th:only-of-type {\n",
       "        vertical-align: middle;\n",
       "    }\n",
       "\n",
       "    .dataframe tbody tr th {\n",
       "        vertical-align: top;\n",
       "    }\n",
       "\n",
       "    .dataframe thead th {\n",
       "        text-align: right;\n",
       "    }\n",
       "</style>\n",
       "<table border=\"1\" class=\"dataframe\">\n",
       "  <thead>\n",
       "    <tr style=\"text-align: right;\">\n",
       "      <th></th>\n",
       "      <th>Date / Time</th>\n",
       "      <th>City</th>\n",
       "      <th>State</th>\n",
       "      <th>Shape</th>\n",
       "      <th>Duration</th>\n",
       "      <th>Summary</th>\n",
       "      <th>Posted</th>\n",
       "    </tr>\n",
       "  </thead>\n",
       "  <tbody>\n",
       "    <tr>\n",
       "      <th>0</th>\n",
       "      <td>12/14/21 22:30</td>\n",
       "      <td>Dallas</td>\n",
       "      <td>TX</td>\n",
       "      <td>Formation</td>\n",
       "      <td>480 seconds</td>\n",
       "      <td>It was loud like rocket in a V shape.</td>\n",
       "      <td>12/19/21</td>\n",
       "    </tr>\n",
       "    <tr>\n",
       "      <th>1</th>\n",
       "      <td>12/12/21 17:30</td>\n",
       "      <td>Dallas</td>\n",
       "      <td>TX</td>\n",
       "      <td>Light</td>\n",
       "      <td>600 seconds</td>\n",
       "      <td>A light that was fading in and out.</td>\n",
       "      <td>12/19/21</td>\n",
       "    </tr>\n",
       "    <tr>\n",
       "      <th>14</th>\n",
       "      <td>11/6/21 14:00</td>\n",
       "      <td>Abilene</td>\n",
       "      <td>TX</td>\n",
       "      <td>Changing</td>\n",
       "      <td>1800 seconds</td>\n",
       "      <td>I was outside waiting on my ride, when a white...</td>\n",
       "      <td>11/15/21</td>\n",
       "    </tr>\n",
       "    <tr>\n",
       "      <th>16</th>\n",
       "      <td>10/25/21 17:18</td>\n",
       "      <td>Corpus Christi</td>\n",
       "      <td>TX</td>\n",
       "      <td>Other</td>\n",
       "      <td>2400 seconds</td>\n",
       "      <td>Seven United States Postal workers in Corpus C...</td>\n",
       "      <td>10/26/21</td>\n",
       "    </tr>\n",
       "    <tr>\n",
       "      <th>18</th>\n",
       "      <td>10/23/21 03:30</td>\n",
       "      <td>Garland</td>\n",
       "      <td>TX</td>\n",
       "      <td>Light</td>\n",
       "      <td>25200 seconds</td>\n",
       "      <td>Early morning site &amp; short encounter</td>\n",
       "      <td>11/15/21</td>\n",
       "    </tr>\n",
       "  </tbody>\n",
       "</table>\n",
       "</div>"
      ],
      "text/plain": [
       "       Date / Time            City State      Shape       Duration  \\\n",
       "0   12/14/21 22:30          Dallas    TX  Formation    480 seconds   \n",
       "1   12/12/21 17:30          Dallas    TX      Light    600 seconds   \n",
       "14   11/6/21 14:00         Abilene    TX   Changing   1800 seconds   \n",
       "16  10/25/21 17:18  Corpus Christi    TX      Other   2400 seconds   \n",
       "18  10/23/21 03:30         Garland    TX      Light  25200 seconds   \n",
       "\n",
       "                                              Summary    Posted  \n",
       "0               It was loud like rocket in a V shape.  12/19/21  \n",
       "1                 A light that was fading in and out.  12/19/21  \n",
       "14  I was outside waiting on my ride, when a white...  11/15/21  \n",
       "16  Seven United States Postal workers in Corpus C...  10/26/21  \n",
       "18               Early morning site & short encounter  11/15/21  "
      ]
     },
     "execution_count": 4,
     "metadata": {},
     "output_type": "execute_result"
    }
   ],
   "source": [
    "# your code here\n",
    "# total rows in original dataset\n",
    "print(\"Original Dataset\",data.shape)\n",
    "# valid rows in your new 'validated' dataset\n",
    "print(\"Validated Dataset\",Copy_data.shape)\n",
    "\n",
    "#Convert duration to seconds\n",
    "for index,row in Copy_data.iterrows(): \n",
    "    res = [int(i) for i in str(row['Duration']).split() if i.isdigit()]\n",
    "    if 'minute' in row['Duration']:\n",
    "        row['Duration'] = str(60*res[0]) + \" \" + \"seconds\"\n",
    "    if 'hour' in row['Duration']:\n",
    "        row['Duration'] = str(60*60*res[0]) + \" \" + \"seconds\"\n",
    "    if 'day' in row['Duration']:\n",
    "        row['Duration'] = str(24*60*60*res[0]) + \" \" + \"seconds\"\n",
    "    if 'week' in row['Duration']:\n",
    "        row['Duration'] = str(7*24*60*60*res[0]) + \" \" + \"seconds\"\n",
    "\n",
    "Copy_data.head()"
   ]
  },
  {
   "cell_type": "code",
   "execution_count": 6,
   "metadata": {
    "id": "5VSAJpk6nd6f"
   },
   "outputs": [
    {
     "name": "stdout",
     "output_type": "stream",
     "text": [
      "Maximum duration:  604800.0\n",
      "Minimum duration:  1.0\n",
      "SD duration:  15489.052057113999\n"
     ]
    },
    {
     "data": {
      "text/plain": [
       "{'whiskers': [<matplotlib.lines.Line2D at 0x1271dfe90>,\n",
       "  <matplotlib.lines.Line2D at 0x1271a99d0>],\n",
       " 'caps': [<matplotlib.lines.Line2D at 0x1271e9910>,\n",
       "  <matplotlib.lines.Line2D at 0x1271e9e10>],\n",
       " 'boxes': [<matplotlib.lines.Line2D at 0x1271a9990>],\n",
       " 'medians': [<matplotlib.lines.Line2D at 0x1271dff50>],\n",
       " 'fliers': [<matplotlib.lines.Line2D at 0x1271ef890>],\n",
       " 'means': []}"
      ]
     },
     "execution_count": 6,
     "metadata": {},
     "output_type": "execute_result"
    },
    {
     "data": {
      "image/png": "[encoded data removed]",
      "text/plain": [
       "<Figure size 720x504 with 1 Axes>"
      ]
     },
     "metadata": {
      "needs_background": "light"
     },
     "output_type": "display_data"
    }
   ],
   "source": [
    "# your code here\n",
    "# report the basic statistics of duration in 'validated' dataset\n",
    "#array of durations\n",
    "#Statistics\n",
    "#report maximum, minimum, mean, and standard deviation values of duration\n",
    "def Calculate_stat(dataset):\n",
    "    durations=[]\n",
    "    temp = dataset['Duration']\n",
    "    for t in temp:\n",
    "        t = t.split()[0]\n",
    "        durations.append(float(t.split()[0]))\n",
    "    print(\"Maximum duration: \",max(durations))\n",
    "    print(\"Minimum duration: \",min(durations))\n",
    "    print(\"SD duration: \",np.std(durations))\n",
    "    \n",
    "    return durations\n",
    "\n",
    "durations = Calculate_stat(Copy_data)\n",
    "\n",
    "# boxplot code here\n",
    "import matplotlib.pyplot as plt\n",
    "import numpy as np\n",
    " \n",
    "fig = plt.figure(figsize =(10, 7))\n",
    " \n",
    "# Creating plot\n",
    "plt.boxplot(durations)"
   ]
  },
  {
   "cell_type": "markdown",
   "metadata": {
    "id": "XRED23qlni_z"
   },
   "source": [
    "### (15pts) Part 1c: Can we do better?\n",
    "Interesting. But we threw away a **lot** of data. We can do better. For this part, you will do your best to clean up the durations from your original dataset. Keep in mind some initial guidelines:\n",
    "\n",
    "* If a duration has a range, use the average as its value. For example, if the duration is listed as “6-8 minutes”, you should consider the duration as “7 minutes”. (Again, you will need to eventually convert minutes into seconds).\n",
    "* If a duration has a “<” sign, you should simply ignore the “<” sign. For example if the duration is specified as “< 1 minute”, consider the duration to be “1 minute”. You should subsequently convert “1 minute” to \"60 seconds\".\n",
    "* If a duration has a “>” sign, you should simply ignore the “>” sign. \n",
    "* You should ignore any row with an empty duration.\n",
    "\n",
    "You will probably have to improvise as you go along, so **make detailed notes of what decisions you are making and why**."
   ]
  },
  {
   "cell_type": "code",
   "execution_count": 7,
   "metadata": {},
   "outputs": [
    {
     "data": {
      "text/html": [
       "<div>\n",
       "<style scoped>\n",
       "    .dataframe tbody tr th:only-of-type {\n",
       "        vertical-align: middle;\n",
       "    }\n",
       "\n",
       "    .dataframe tbody tr th {\n",
       "        vertical-align: top;\n",
       "    }\n",
       "\n",
       "    .dataframe thead th {\n",
       "        text-align: right;\n",
       "    }\n",
       "</style>\n",
       "<table border=\"1\" class=\"dataframe\">\n",
       "  <thead>\n",
       "    <tr style=\"text-align: right;\">\n",
       "      <th></th>\n",
       "      <th>Date / Time</th>\n",
       "      <th>City</th>\n",
       "      <th>State</th>\n",
       "      <th>Shape</th>\n",
       "      <th>Duration</th>\n",
       "      <th>Summary</th>\n",
       "      <th>Posted</th>\n",
       "    </tr>\n",
       "  </thead>\n",
       "  <tbody>\n",
       "    <tr>\n",
       "      <th>0</th>\n",
       "      <td>12/14/21 22:30</td>\n",
       "      <td>Dallas</td>\n",
       "      <td>TX</td>\n",
       "      <td>Formation</td>\n",
       "      <td>8 minutes</td>\n",
       "      <td>It was loud like rocket in a V shape.</td>\n",
       "      <td>12/19/21</td>\n",
       "    </tr>\n",
       "    <tr>\n",
       "      <th>1</th>\n",
       "      <td>12/12/21 17:30</td>\n",
       "      <td>Dallas</td>\n",
       "      <td>TX</td>\n",
       "      <td>Light</td>\n",
       "      <td>10 minutes</td>\n",
       "      <td>A light that was fading in and out.</td>\n",
       "      <td>12/19/21</td>\n",
       "    </tr>\n",
       "    <tr>\n",
       "      <th>2</th>\n",
       "      <td>12/9/21 16:30</td>\n",
       "      <td>Lazerbet</td>\n",
       "      <td>TX</td>\n",
       "      <td>Other</td>\n",
       "      <td>Google maping</td>\n",
       "      <td>It's big</td>\n",
       "      <td>12/19/21</td>\n",
       "    </tr>\n",
       "    <tr>\n",
       "      <th>3</th>\n",
       "      <td>12/9/21 16:00</td>\n",
       "      <td>Lazerbet</td>\n",
       "      <td>TX</td>\n",
       "      <td>Triangle</td>\n",
       "      <td>NaN</td>\n",
       "      <td>Unhuman</td>\n",
       "      <td>12/19/21</td>\n",
       "    </tr>\n",
       "    <tr>\n",
       "      <th>4</th>\n",
       "      <td>12/7/21 17:30</td>\n",
       "      <td>Oak Cliff</td>\n",
       "      <td>TX</td>\n",
       "      <td>Unknown</td>\n",
       "      <td>NaN</td>\n",
       "      <td>I was randomly taking pictures of the clouds a...</td>\n",
       "      <td>12/19/21</td>\n",
       "    </tr>\n",
       "    <tr>\n",
       "      <th>...</th>\n",
       "      <td>...</td>\n",
       "      <td>...</td>\n",
       "      <td>...</td>\n",
       "      <td>...</td>\n",
       "      <td>...</td>\n",
       "      <td>...</td>\n",
       "      <td>...</td>\n",
       "    </tr>\n",
       "    <tr>\n",
       "      <th>495</th>\n",
       "      <td>10/12/19 17:10</td>\n",
       "      <td>Irving</td>\n",
       "      <td>TX</td>\n",
       "      <td>Light</td>\n",
       "      <td>30 seconds</td>\n",
       "      <td>pulsating orange / white light hovering</td>\n",
       "      <td>12/1/19</td>\n",
       "    </tr>\n",
       "    <tr>\n",
       "      <th>496</th>\n",
       "      <td>10/12/19 16:41</td>\n",
       "      <td>Pflugerville</td>\n",
       "      <td>TX</td>\n",
       "      <td>Oval</td>\n",
       "      <td>?</td>\n",
       "      <td>Short Rainbow with a vortex appearing cloud an...</td>\n",
       "      <td>12/1/19</td>\n",
       "    </tr>\n",
       "    <tr>\n",
       "      <th>497</th>\n",
       "      <td>10/12/19 08:00</td>\n",
       "      <td>Tomball</td>\n",
       "      <td>TX</td>\n",
       "      <td>Cigar</td>\n",
       "      <td>60 seconds</td>\n",
       "      <td>cigar shaped object streaking across the sky. ...</td>\n",
       "      <td>12/1/19</td>\n",
       "    </tr>\n",
       "    <tr>\n",
       "      <th>498</th>\n",
       "      <td>10/11/19 19:49</td>\n",
       "      <td>Allen</td>\n",
       "      <td>TX</td>\n",
       "      <td>Light</td>\n",
       "      <td>less than 1 minute</td>\n",
       "      <td>White light following ISS</td>\n",
       "      <td>12/1/19</td>\n",
       "    </tr>\n",
       "    <tr>\n",
       "      <th>499</th>\n",
       "      <td>10/11/19 03:00</td>\n",
       "      <td>Brownsville</td>\n",
       "      <td>TX</td>\n",
       "      <td>Circle</td>\n",
       "      <td>&lt;2 minutes</td>\n",
       "      <td>THE OBJECT WAS ROUND, BRIGHT LIGHT AND JUST WE...</td>\n",
       "      <td>12/1/19</td>\n",
       "    </tr>\n",
       "  </tbody>\n",
       "</table>\n",
       "<p>500 rows × 7 columns</p>\n",
       "</div>"
      ],
      "text/plain": [
       "        Date / Time          City State      Shape            Duration  \\\n",
       "0    12/14/21 22:30        Dallas    TX  Formation           8 minutes   \n",
       "1    12/12/21 17:30        Dallas    TX      Light          10 minutes   \n",
       "2     12/9/21 16:30      Lazerbet    TX      Other       Google maping   \n",
       "3     12/9/21 16:00      Lazerbet    TX   Triangle                 NaN   \n",
       "4     12/7/21 17:30     Oak Cliff    TX    Unknown                 NaN   \n",
       "..              ...           ...   ...        ...                 ...   \n",
       "495  10/12/19 17:10        Irving    TX      Light          30 seconds   \n",
       "496  10/12/19 16:41  Pflugerville    TX       Oval                   ?   \n",
       "497  10/12/19 08:00       Tomball    TX      Cigar          60 seconds   \n",
       "498  10/11/19 19:49         Allen    TX      Light  less than 1 minute   \n",
       "499  10/11/19 03:00   Brownsville    TX     Circle          <2 minutes   \n",
       "\n",
       "                                               Summary    Posted  \n",
       "0                It was loud like rocket in a V shape.  12/19/21  \n",
       "1                  A light that was fading in and out.  12/19/21  \n",
       "2                                             It's big  12/19/21  \n",
       "3                                              Unhuman  12/19/21  \n",
       "4    I was randomly taking pictures of the clouds a...  12/19/21  \n",
       "..                                                 ...       ...  \n",
       "495            pulsating orange / white light hovering   12/1/19  \n",
       "496  Short Rainbow with a vortex appearing cloud an...   12/1/19  \n",
       "497  cigar shaped object streaking across the sky. ...   12/1/19  \n",
       "498                          White light following ISS   12/1/19  \n",
       "499  THE OBJECT WAS ROUND, BRIGHT LIGHT AND JUST WE...   12/1/19  \n",
       "\n",
       "[500 rows x 7 columns]"
      ]
     },
     "execution_count": 7,
     "metadata": {},
     "output_type": "execute_result"
    }
   ],
   "source": [
    "# your code here \n",
    "#Copy data\n",
    "valid_data = data.copy(deep=True)\n",
    "valid_data.head(500)"
   ]
  },
  {
   "cell_type": "code",
   "execution_count": 8,
   "metadata": {},
   "outputs": [
    {
     "data": {
      "text/plain": [
       "(5631, 7)"
      ]
     },
     "execution_count": 8,
     "metadata": {},
     "output_type": "execute_result"
    }
   ],
   "source": [
    "valid_data.shape"
   ]
  },
  {
   "cell_type": "code",
   "execution_count": 9,
   "metadata": {
    "id": "q3zORgUTnmZg"
   },
   "outputs": [
    {
     "name": "stdout",
     "output_type": "stream",
     "text": [
      "(4609, 7)\n"
     ]
    },
    {
     "data": {
      "text/html": [
       "<div>\n",
       "<style scoped>\n",
       "    .dataframe tbody tr th:only-of-type {\n",
       "        vertical-align: middle;\n",
       "    }\n",
       "\n",
       "    .dataframe tbody tr th {\n",
       "        vertical-align: top;\n",
       "    }\n",
       "\n",
       "    .dataframe thead th {\n",
       "        text-align: right;\n",
       "    }\n",
       "</style>\n",
       "<table border=\"1\" class=\"dataframe\">\n",
       "  <thead>\n",
       "    <tr style=\"text-align: right;\">\n",
       "      <th></th>\n",
       "      <th>Date / Time</th>\n",
       "      <th>City</th>\n",
       "      <th>State</th>\n",
       "      <th>Shape</th>\n",
       "      <th>Duration</th>\n",
       "      <th>Summary</th>\n",
       "      <th>Posted</th>\n",
       "    </tr>\n",
       "  </thead>\n",
       "  <tbody>\n",
       "    <tr>\n",
       "      <th>0</th>\n",
       "      <td>12/14/21 22:30</td>\n",
       "      <td>Dallas</td>\n",
       "      <td>TX</td>\n",
       "      <td>Formation</td>\n",
       "      <td>480 seconds</td>\n",
       "      <td>It was loud like rocket in a V shape.</td>\n",
       "      <td>12/19/21</td>\n",
       "    </tr>\n",
       "    <tr>\n",
       "      <th>1</th>\n",
       "      <td>12/12/21 17:30</td>\n",
       "      <td>Dallas</td>\n",
       "      <td>TX</td>\n",
       "      <td>Light</td>\n",
       "      <td>600 seconds</td>\n",
       "      <td>A light that was fading in and out.</td>\n",
       "      <td>12/19/21</td>\n",
       "    </tr>\n",
       "    <tr>\n",
       "      <th>5</th>\n",
       "      <td>12/3/21 21:00</td>\n",
       "      <td>Sanderson</td>\n",
       "      <td>TX</td>\n",
       "      <td>Light</td>\n",
       "      <td>60 seconds</td>\n",
       "      <td>Sighting of odd light in night sky.</td>\n",
       "      <td>12/19/21</td>\n",
       "    </tr>\n",
       "    <tr>\n",
       "      <th>12</th>\n",
       "      <td>11/12/21 10:00</td>\n",
       "      <td>Hickory Creek</td>\n",
       "      <td>TX</td>\n",
       "      <td>Circle</td>\n",
       "      <td>150 seconds</td>\n",
       "      <td>2 identical circular orange spheres traveling ...</td>\n",
       "      <td>11/15/21</td>\n",
       "    </tr>\n",
       "    <tr>\n",
       "      <th>14</th>\n",
       "      <td>11/6/21 14:00</td>\n",
       "      <td>Abilene</td>\n",
       "      <td>TX</td>\n",
       "      <td>Changing</td>\n",
       "      <td>1800 seconds</td>\n",
       "      <td>I was outside waiting on my ride, when a white...</td>\n",
       "      <td>11/15/21</td>\n",
       "    </tr>\n",
       "  </tbody>\n",
       "</table>\n",
       "</div>"
      ],
      "text/plain": [
       "       Date / Time           City State      Shape      Duration  \\\n",
       "0   12/14/21 22:30         Dallas    TX  Formation   480 seconds   \n",
       "1   12/12/21 17:30         Dallas    TX      Light   600 seconds   \n",
       "5    12/3/21 21:00      Sanderson    TX      Light    60 seconds   \n",
       "12  11/12/21 10:00  Hickory Creek    TX     Circle   150 seconds   \n",
       "14   11/6/21 14:00        Abilene    TX   Changing  1800 seconds   \n",
       "\n",
       "                                              Summary    Posted  \n",
       "0               It was loud like rocket in a V shape.  12/19/21  \n",
       "1                 A light that was fading in and out.  12/19/21  \n",
       "5                 Sighting of odd light in night sky.  12/19/21  \n",
       "12  2 identical circular orange spheres traveling ...  11/15/21  \n",
       "14  I was outside waiting on my ride, when a white...  11/15/21  "
      ]
     },
     "execution_count": 9,
     "metadata": {},
     "output_type": "execute_result"
    }
   ],
   "source": [
    "# your code here \n",
    "Sec = {'s','sec','secs','second','seconds'}\n",
    "Min = {'m','min','mins','minute','minutes'}\n",
    "Hour = {'h','hrs','hour','hours'}\n",
    "Day =  {'day','days'}\n",
    "Week = {'week','weeks'}\n",
    "\n",
    "start = r'(?:\\<|\\>|\\~|\\+|plus|approx\\.|about|approx|approximately|\\,|less than|\\?)' \n",
    "between = r'(\\-|to|\\/|and|\\&|or)+'\n",
    "r1 = r'^(\\d+)\\s*(mins?|hours?|secs?|hrs?|m|s|h|minutes?|seconds?|days?|weeks?)'\n",
    "r2 = r'^'+ start + r'\\s*(\\d+)\\s*(mins?|hours?|secs?|hrs?|m|s|h|minutes?|seconds?|days?|weeks?)'\n",
    "r3 = r'^'+ start+ r'?' +'(\\d+)\\s*' + between + r'\\s*(\\d+)\\s*(mins?|hours?|secs?|hrs?|m|s|h|minutes?|seconds?|days?|weeks?)' \n",
    "r4 = r'^'+ start + r'?' + '(\\d+)\\s*(mins?|hours?|secs?|hrs?|m|s|h|minutes?|seconds?|days?|weeks?)'+ r'\\s*' + between + r'\\s*(\\d+)\\s*(mins?|hours?|secs?|hrs?|m|s|h|minutes?|seconds?|days?|weeks?)'\n",
    "\n",
    "\n",
    "#For regex r1 and r2\n",
    "def convert_to_sec(exp):\n",
    "    if (set(exp[1].lower()) & Sec):\n",
    "        return str(int(exp[0])) + ' seconds'\n",
    "    elif (set(exp[1].lower()) & Min):\n",
    "        return str(60*int(exp[0])) + ' seconds'\n",
    "    elif (set(exp[1].lower()) & Hour):\n",
    "        return str(60*60*int(exp[0])) +' seconds'\n",
    "    elif (set(exp[1].lower()) & Day):\n",
    "        return str(24*60*60*int(exp[0]))+' seconds'\n",
    "    else:\n",
    "        return str(7*24*60*60*int(exp[0]))+' seconds'\n",
    "\n",
    "#For regex r3 and r4     \n",
    "def range_to_sec(exp):\n",
    "    if len(exp)==4:\n",
    "        c = float((int(exp[0])+int(exp[2]))/2)\n",
    "        if exp[3].lower() in Sec:\n",
    "            z=str(c)+ ' seconds'\n",
    "        elif exp[3].lower() in Min:\n",
    "            z=str(int(60*c))+ ' seconds'\n",
    "        elif exp[3].lower() in Hour:\n",
    "            z=str(int(60*60*c))+ ' seconds'\n",
    "        elif exp[3].lower() in Day:\n",
    "            z=str(int(24*60*60*c))+ ' seconds'\n",
    "        else:\n",
    "            z=str(int(7*24*60*60*c))+ ' seconds'\n",
    "        return z\n",
    "    \n",
    "\n",
    "import types\n",
    "\n",
    "def Validation_Set(data):\n",
    "  \n",
    "    New_R = set()\n",
    "    for index,row in data.iterrows(): \n",
    "        if 'float' not in str(type(row['Duration'])):\n",
    "            \n",
    "            duration  = str(row['Duration'])\n",
    "           \n",
    "            #Eg : 1 seconds\n",
    "            exp1 = re.search(r1,duration,re.I)\n",
    "            if exp1 is not None:\n",
    "                update = convert_to_sec(exp1.groups())\n",
    "                valid_data.iloc[index]['Duration'] = update\n",
    "                New_R.add(index)\n",
    "            \n",
    "            #Eg: about 1 minutes\n",
    "            exp2 = re.search(r2,duration,re.I)\n",
    "            if exp2 is not None:\n",
    "                update = convert_to_sec(exp2.groups())\n",
    "                valid_data.iloc[index]['Duration'] = update\n",
    "                New_R.add(index)\n",
    "            \n",
    "            #Eg: 2-3 seconds    \n",
    "            exp3 = re.search(r3,duration,re.I)\n",
    "            if exp3 is not None:\n",
    "                update = range_to_sec(exp3.groups())\n",
    "                valid_data.iloc[index]['Duration'] = update\n",
    "                New_R.add(index)\n",
    "            \n",
    "            #Eg: 10min-15min   \n",
    "            exp4 = re.search(r4,duration,re.I)\n",
    "            if exp4 is not None:\n",
    "                update = range_to_sec(exp4.groups())\n",
    "                valid_data.iloc[index]['Duration'] = update\n",
    "                New_R.add(index)\n",
    "    return New_R\n",
    "\n",
    "rows = list(Validation_Set(valid_data))\n",
    "\n",
    "for index, row in valid_data.iterrows():\n",
    "    if index not in rows:\n",
    "        valid_data.drop(index,inplace=True)\n",
    "print(valid_data.shape)\n",
    "\n",
    "valid_data.head()"
   ]
  },
  {
   "cell_type": "code",
   "execution_count": 10,
   "metadata": {
    "id": "e2PDFUk1nqY4"
   },
   "outputs": [
    {
     "data": {
      "text/plain": [
       "(4511, 7)"
      ]
     },
     "execution_count": 10,
     "metadata": {},
     "output_type": "execute_result"
    }
   ],
   "source": [
    "valid_data = valid_data.replace(to_replace='None', value=np.nan).dropna() #remove null values\n",
    "valid_data.head()\n",
    "valid_data.shape\n"
   ]
  },
  {
   "cell_type": "code",
   "execution_count": 11,
   "metadata": {
    "id": "L_r7ogIHnquU"
   },
   "outputs": [
    {
     "name": "stdout",
     "output_type": "stream",
     "text": [
      "Maximum duration:  604800.0\n",
      "Minimum duration:  1.0\n",
      "SD duration:  15628.827083868035\n"
     ]
    },
    {
     "data": {
      "image/png": "[encoded data removed]",
      "text/plain": [
       "<Figure size 720x504 with 1 Axes>"
      ]
     },
     "metadata": {
      "needs_background": "light"
     },
     "output_type": "display_data"
    }
   ],
   "source": [
    "# your code here\n",
    "# report the basic statistics of duration in your cleaned dataset\n",
    "New_durations = Calculate_stat(valid_data)\n",
    "import matplotlib.pyplot as plt\n",
    "import numpy as np\n",
    " \n",
    "fig = plt.figure(figsize =(10, 7))\n",
    " \n",
    "# Creating plot\n",
    "# draw a boxplot for your cleaned dataset\n",
    "import numpy as np\n",
    "import seaborn as sns\n",
    "sns.set(style=\"darkgrid\")\n",
    "ax = sns.boxplot(New_durations)\n",
    "plt.show()"
   ]
  },
  {
   "cell_type": "markdown",
   "metadata": {
    "id": "-5rKvm1k7HHk"
   },
   "source": [
    "### (5pts) Part 1d: Observations and Conclusions\n",
    "\n",
    "Based on your analysis on part 1b and 1c, what observations or conclusions can you make from the data?"
   ]
  },
  {
   "cell_type": "markdown",
   "metadata": {
    "id": "vrnseH_t7RzX"
   },
   "source": [
    "*In part 1b a lot of data was wasted and around 50% of data was wasted\n",
    "According to the boxplot from part 1b values were more spread out and they were close to minimum value and because of that the SD is \n",
    "In part 1c i.e validation data only around 23% of data was wasted\n",
    "Here the time for each row is more close to minimum value and because of that the SD is 15628*"
   ]
  },
  {
   "cell_type": "markdown",
   "metadata": {
    "id": "X-n9Zd2j7uFC"
   },
   "source": [
    "### (5pts) Part 1e: Next Steps\n",
    "\n",
    "Now is your chance to conduct an interesting analysis on the UFO data you have collected. This is open-ended, so you may choose whatever direction you like. For example, you might want to take a look at the shape of the UFOs or perhaps the temporal aspects of the reports. "
   ]
  },
  {
   "cell_type": "code",
   "execution_count": 12,
   "metadata": {},
   "outputs": [
    {
     "name": "stdout",
     "output_type": "stream",
     "text": [
      "Top 10 Shapes:\n"
     ]
    },
    {
     "data": {
      "image/png": "[encoded data removed]",
      "text/plain": [
       "<Figure size 576x360 with 1 Axes>"
      ]
     },
     "metadata": {},
     "output_type": "display_data"
    }
   ],
   "source": [
    "import seaborn\n",
    "print('Top 10 Shapes:')\n",
    "plt.subplots(figsize=(8,5))\n",
    "seaborn.countplot(x=\"Shape\", data=valid_data,\n",
    "                  order=pd.value_counts(valid_data['Shape']).iloc[:10].index)\n",
    "plt.show()"
   ]
  },
  {
   "cell_type": "code",
   "execution_count": 13,
   "metadata": {
    "id": "GngkwXtD8Kvy"
   },
   "outputs": [
    {
     "name": "stdout",
     "output_type": "stream",
     "text": [
      "Occurance of all shapes:\n"
     ]
    },
    {
     "data": {
      "image/png": "[encoded data removed]",
      "text/plain": [
       "<Figure size 432x288 with 1 Axes>"
      ]
     },
     "metadata": {},
     "output_type": "display_data"
    }
   ],
   "source": [
    "# your code here\n",
    "from matplotlib.pyplot import pie, axis, show\n",
    "shp = valid_data['Shape'].str.lower().value_counts()\n",
    "print('Occurance of all shapes:')\n",
    "pie(shp, labels=shp.index,radius=3);\n",
    "show()\n"
   ]
  },
  {
   "cell_type": "markdown",
   "metadata": {
    "id": "tb6tGIBG8M2q"
   },
   "source": [
    "*The most occured shape is Light. Both 'Light' and 'light' was combined into 1 category.*"
   ]
  },
  {
   "cell_type": "markdown",
   "metadata": {
    "id": "FQ6FjJ2NEoFS"
   },
   "source": [
    "## (50 points) Part 2: Association Rules in Movie Rating Behaviors"
   ]
  },
  {
   "cell_type": "markdown",
   "metadata": {
    "id": "CKVTACJGFGYw"
   },
   "source": [
    "For the second part of this homework, we're going to examine movies using our understanding of association rules, to find movies that \"go together\". For this part, you will implement the apriori algorithm, and apply it to a movie rating dataset. We'll use the [MovieLens](https://grouplens.org/datasets/movielens/) dataset.\n",
    "\n",
    "First, run the next cell to load the dataset we are going to use."
   ]
  },
  {
   "cell_type": "code",
   "execution_count": 14,
   "metadata": {
    "id": "fcZSAoCAFDyA"
   },
   "outputs": [
    {
     "name": "stderr",
     "output_type": "stream",
     "text": [
      "/Library/Frameworks/Python.framework/Versions/3.7/lib/python3.7/site-packages/urllib3/connectionpool.py:847: InsecureRequestWarning: Unverified HTTPS request is being made. Adding certificate verification is strongly advised. See: https://urllib3.readthedocs.io/en/latest/advanced-usage.html#ssl-warnings\n",
      "  InsecureRequestWarning)\n"
     ]
    }
   ],
   "source": [
    "import urllib3\n",
    "import zipfile\n",
    "\n",
    "http = urllib3.PoolManager()\n",
    "req = http.request(\"GET\", \"https://files.grouplens.org/datasets/movielens/ml-latest-small.zip\", preload_content=False)\n",
    "\n",
    "with open(\"movie.zip\", 'wb') as out:\n",
    "  while True:\n",
    "    data = req.read(4096)\n",
    "    if not data:\n",
    "      break\n",
    "    out.write(data)\n",
    "req.release_conn()\n",
    "\n",
    "zFile = zipfile.ZipFile(\"movie.zip\", \"r\")\n",
    "for fileM in zFile.namelist():\n",
    "  zFile.extract(fileM)"
   ]
  },
  {
   "cell_type": "code",
   "execution_count": 15,
   "metadata": {
    "id": "YgIIGQ3lIgRH"
   },
   "outputs": [
    {
     "name": "stdout",
     "output_type": "stream",
     "text": [
      "README.txt  links.csv   movies.csv  ratings.csv tags.csv\r\n"
     ]
    }
   ],
   "source": [
    "!ls ml-latest-small/"
   ]
  },
  {
   "cell_type": "markdown",
   "metadata": {
    "id": "RiF1Gc0q7qzj"
   },
   "source": [
    "In this dataset, there are four columns: `userId` is the integer ids of users, `movieId` is the integer ids of movies, `rating` is the rate of the user gives to the movie, and `timestamp` which we do not use here. Each row denotes that the user of given `userId` rated the movie of the given `movieId`. We are going to treat each user as a \"basket\", so you will need to collect all the movies that have been rated by a single user as a basket. \n",
    "\n",
    "Now, you need to implement the apriori algorithm and apply it to this dataset to find association rules of user rating behaviors where:\n",
    "\n",
    "1. Define `rating` >= 3 is \"like\" (that is, only consider movie ratings of 3 or higher in your baskets; you may ignore all others)\n",
    "2. `minsup` == 40 (out of 600 users/baskets); we may adjust this based on the discussion on Campuswire\n",
    "3. `minconf` == to be determined by a discussion on Campuswire. You may try several different choices, but we will converge on a good choice for everyone for the final submission.\n",
    " \n",
    "We know there are many existing implementations of apriori online (check github for some good starting points). You are welcome to read existing codebases and let that inform your approach. Do not copy-paste any existing code. We want your code to have sufficient comments to explain your steps, to show us that you really know what you are doing. Furthermore, you should add print statements to print out the intermediate steps of your method -- e.g., the size of the candidate set at each step of the method, the size of the filtered set, and any other important information you think will highlight the method. \n",
    "\n",
    "To help get you started, we can load the ratings with the following code snippet:"
   ]
  },
  {
   "cell_type": "code",
   "execution_count": 16,
   "metadata": {
    "id": "0y8yZnEVI3Oy"
   },
   "outputs": [
    {
     "data": {
      "text/html": [
       "<div>\n",
       "<style scoped>\n",
       "    .dataframe tbody tr th:only-of-type {\n",
       "        vertical-align: middle;\n",
       "    }\n",
       "\n",
       "    .dataframe tbody tr th {\n",
       "        vertical-align: top;\n",
       "    }\n",
       "\n",
       "    .dataframe thead th {\n",
       "        text-align: right;\n",
       "    }\n",
       "</style>\n",
       "<table border=\"1\" class=\"dataframe\">\n",
       "  <thead>\n",
       "    <tr style=\"text-align: right;\">\n",
       "      <th></th>\n",
       "      <th>userId</th>\n",
       "      <th>movieId</th>\n",
       "      <th>rating</th>\n",
       "      <th>timestamp</th>\n",
       "    </tr>\n",
       "  </thead>\n",
       "  <tbody>\n",
       "    <tr>\n",
       "      <th>0</th>\n",
       "      <td>1</td>\n",
       "      <td>1</td>\n",
       "      <td>4.0</td>\n",
       "      <td>964982703</td>\n",
       "    </tr>\n",
       "    <tr>\n",
       "      <th>1</th>\n",
       "      <td>1</td>\n",
       "      <td>3</td>\n",
       "      <td>4.0</td>\n",
       "      <td>964981247</td>\n",
       "    </tr>\n",
       "    <tr>\n",
       "      <th>2</th>\n",
       "      <td>1</td>\n",
       "      <td>6</td>\n",
       "      <td>4.0</td>\n",
       "      <td>964982224</td>\n",
       "    </tr>\n",
       "    <tr>\n",
       "      <th>3</th>\n",
       "      <td>1</td>\n",
       "      <td>47</td>\n",
       "      <td>5.0</td>\n",
       "      <td>964983815</td>\n",
       "    </tr>\n",
       "    <tr>\n",
       "      <th>4</th>\n",
       "      <td>1</td>\n",
       "      <td>50</td>\n",
       "      <td>5.0</td>\n",
       "      <td>964982931</td>\n",
       "    </tr>\n",
       "    <tr>\n",
       "      <th>...</th>\n",
       "      <td>...</td>\n",
       "      <td>...</td>\n",
       "      <td>...</td>\n",
       "      <td>...</td>\n",
       "    </tr>\n",
       "    <tr>\n",
       "      <th>100831</th>\n",
       "      <td>610</td>\n",
       "      <td>166534</td>\n",
       "      <td>4.0</td>\n",
       "      <td>1493848402</td>\n",
       "    </tr>\n",
       "    <tr>\n",
       "      <th>100832</th>\n",
       "      <td>610</td>\n",
       "      <td>168248</td>\n",
       "      <td>5.0</td>\n",
       "      <td>1493850091</td>\n",
       "    </tr>\n",
       "    <tr>\n",
       "      <th>100833</th>\n",
       "      <td>610</td>\n",
       "      <td>168250</td>\n",
       "      <td>5.0</td>\n",
       "      <td>1494273047</td>\n",
       "    </tr>\n",
       "    <tr>\n",
       "      <th>100834</th>\n",
       "      <td>610</td>\n",
       "      <td>168252</td>\n",
       "      <td>5.0</td>\n",
       "      <td>1493846352</td>\n",
       "    </tr>\n",
       "    <tr>\n",
       "      <th>100835</th>\n",
       "      <td>610</td>\n",
       "      <td>170875</td>\n",
       "      <td>3.0</td>\n",
       "      <td>1493846415</td>\n",
       "    </tr>\n",
       "  </tbody>\n",
       "</table>\n",
       "<p>100836 rows × 4 columns</p>\n",
       "</div>"
      ],
      "text/plain": [
       "        userId  movieId  rating   timestamp\n",
       "0            1        1     4.0   964982703\n",
       "1            1        3     4.0   964981247\n",
       "2            1        6     4.0   964982224\n",
       "3            1       47     5.0   964983815\n",
       "4            1       50     5.0   964982931\n",
       "...        ...      ...     ...         ...\n",
       "100831     610   166534     4.0  1493848402\n",
       "100832     610   168248     5.0  1493850091\n",
       "100833     610   168250     5.0  1494273047\n",
       "100834     610   168252     5.0  1493846352\n",
       "100835     610   170875     3.0  1493846415\n",
       "\n",
       "[100836 rows x 4 columns]"
      ]
     },
     "execution_count": 16,
     "metadata": {},
     "output_type": "execute_result"
    }
   ],
   "source": [
    "import pandas as pd\n",
    "from itertools import combinations\n",
    "# read user ratings\n",
    "allRatings = pd.read_csv(\"ml-latest-small/ratings.csv\")\n",
    "allRatings"
   ]
  },
  {
   "cell_type": "markdown",
   "metadata": {
    "id": "QfwWA4d2Ne6r"
   },
   "source": [
    "### (15pts) Step 1: Implement Apriori Algorithm\n",
    "In this section, you need to implement the Apriori algorithm, we will check the correctness of your code and we encourage efficient implementation and skills of pruning."
   ]
  },
  {
   "cell_type": "code",
   "execution_count": 17,
   "metadata": {
    "id": "48ITOQG09fT2"
   },
   "outputs": [
    {
     "name": "stdout",
     "output_type": "stream",
     "text": [
      "43 itemset\n",
      "[(1.0,), (32.0,), (47.0,), (50.0,), (110.0,), (150.0,), (260.0,), (296.0,), (318.0,), (344.0,), (356.0,), (364.0,), (367.0,), (377.0,), (380.0,), (457.0,), (480.0,), (527.0,), (588.0,), (589.0,), (590.0,), (592.0,), (593.0,), (608.0,), (648.0,), (780.0,), (858.0,), (1196.0,), (1198.0,), (1210.0,), (1270.0,), (1580.0,), (2028.0,), (2571.0,), (2762.0,), (2858.0,), (2959.0,), (3578.0,), (4226.0,), (4306.0,), (4993.0,), (5952.0,), (7153.0,)]\n",
      "\n",
      "43 itemset\n",
      "[(1.0,), (4226.0,), (4993.0,), (260.0,), (648.0,), (2571.0,), (780.0,), (527.0,), (2959.0,), (150.0,), (32.0,), (296.0,), (2858.0,), (1196.0,), (1580.0,), (1198.0,), (47.0,), (50.0,), (1210.0,), (318.0,), (5952.0,), (457.0,), (2762.0,), (588.0,), (589.0,), (590.0,), (592.0,), (593.0,), (4306.0,), (344.0,), (858.0,), (480.0,), (608.0,), (356.0,), (364.0,), (2028.0,), (110.0,), (367.0,), (7153.0,), (1270.0,), (377.0,), (3578.0,), (380.0,)]\n",
      "\n",
      "52 itemset\n",
      "[(1.0, 356.0), (4993.0, 2571.0), (4993.0, 5952.0), (4993.0, 7153.0), (260.0, 2571.0), (260.0, 296.0), (260.0, 1196.0), (260.0, 1198.0), (260.0, 1210.0), (260.0, 318.0), (260.0, 593.0), (260.0, 356.0), (2571.0, 2959.0), (2571.0, 296.0), (2571.0, 2858.0), (2571.0, 1196.0), (2571.0, 1198.0), (2571.0, 1210.0), (2571.0, 318.0), (2571.0, 593.0), (2571.0, 356.0), (2571.0, 2028.0), (527.0, 318.0), (527.0, 356.0), (2959.0, 296.0), (2959.0, 318.0), (2959.0, 356.0), (150.0, 356.0), (296.0, 47.0), (296.0, 50.0), (296.0, 318.0), (296.0, 589.0), (296.0, 593.0), (296.0, 480.0), (296.0, 356.0), (296.0, 110.0), (1196.0, 1210.0), (47.0, 356.0), (50.0, 318.0), (318.0, 593.0), (318.0, 480.0), (318.0, 356.0), (318.0, 110.0), (5952.0, 7153.0), (589.0, 480.0), (589.0, 356.0), (589.0, 110.0), (593.0, 480.0), (593.0, 356.0), (480.0, 356.0), (480.0, 110.0), (356.0, 110.0)]\n",
      "\n",
      "8 itemset\n",
      "[(4993.0, 5952.0, 7153.0), (260.0, 2571.0, 1196.0), (260.0, 1196.0, 1210.0), (296.0, 318.0, 593.0), (296.0, 318.0, 356.0), (296.0, 593.0, 356.0), (296.0, 480.0, 356.0), (318.0, 593.0, 356.0)]\n",
      "\n",
      "0 itemset\n",
      "[]\n",
      "\n",
      "Frequent itemset count: 146\n",
      "Association Rules: [({1196.0}, 260.0), ({4993.0, 7153.0}, 5952.0), ({5952.0, 7153.0}, 4993.0), ({5952.0, 4993.0}, 7153.0), ({2571.0, 1196.0}, 260.0), ({1210.0, 1196.0}, 260.0), ({296.0, 480.0}, 356.0)]\n"
     ]
    }
   ],
   "source": [
    "# your code here\n",
    "#Ref : https://github.com/coorty/apriori-agorithm-python/blob/master/apriori.py\n",
    "#Ref : http://www.vucreations.com/articles/apriori-algorithm-from-scratch-Python.html\n",
    "# your code here\n",
    "min_sup = 0.25 \n",
    "min_confidence = 0.9\n",
    "baskets = {} \n",
    "\n",
    "def create_basket(df):\n",
    "    movies = set()\n",
    "    basket = {}\n",
    "    for row in df.iterrows():\n",
    "        userId = row[1]['userId']\n",
    "        movieId = row[1]['movieId']\n",
    "        movies.add(movieId)\n",
    "        \n",
    "        if userId in basket:\n",
    "            basket[userId].add(movieId)\n",
    "        else:\n",
    "            basket[userId]={ movieId }\n",
    "    return basket\n",
    "\n",
    "baskets = create_basket(allRatings)\n",
    "\n",
    "\n",
    "from itertools import combinations\n",
    "\n",
    "#takes a list of tuples of item combinations and returns list of frequent itemset\n",
    "def getFrequentItems(combos,min_support,basket,itemset):\n",
    "    frequent_items = []\n",
    "    for combo in combos:\n",
    "        count=0\n",
    "        #Calculate support\n",
    "        for UID in basket:\n",
    "            if set(combo).issubset(basket[UID]):\n",
    "                count+=1\n",
    "        \n",
    "        if count/len(basket) >= min_support:\n",
    "            frequent_items.append(combo)\n",
    "            itemset.append(combo)\n",
    "            \n",
    "    return frequent_items\n",
    "\n",
    "#returns a list of frequent items\n",
    "#Eg : [(A,B),(B,C)] => {A,B,C}\n",
    "def getCombinations(frequent_items, size):\n",
    "    frequent_itemset = set()\n",
    "    for items_tuple in frequent_items:\n",
    "        for item in items_tuple:\n",
    "            frequent_itemset.add(item)\n",
    "    \n",
    "    combos = list(combinations(frequent_itemset, size))\n",
    "    return combos\n",
    "\n",
    "#returns confidence of an event happening\n",
    "#Confidence(A->B)=support(AUB)/support(A)\n",
    "def getConfidence(intersection, condition,basket):\n",
    "    int_c = 0\n",
    "    cond_c = 0\n",
    "    #Caluculate support\n",
    "    #Count total occurances in the basket\n",
    "    for Id in basket:\n",
    "        if intersection.issubset(basket[Id]):\n",
    "            int_c+=1\n",
    "        if condition.issubset(basket[Id]):\n",
    "            cond_c +=1\n",
    "    \n",
    "    return int_c / cond_c\n",
    "\n",
    "\n",
    "def findRules(frequent_items, association_rules,basket):\n",
    "    for item_tuple in frequent_items:\n",
    "        itemset = set(item_tuple)\n",
    "        for item in itemset:\n",
    "            condition = itemset - {item}\n",
    "            #scanning itemset for counting support\n",
    "            if getConfidence(itemset,condition,basket) >= min_confidence:\n",
    "                association_rules.append((condition, item))\n",
    "\n",
    "itemset_whole = []\n",
    "def apriori(basket,min_sup,itemset):\n",
    "    if len(basket) == 0:\n",
    "        return set()\n",
    "    \n",
    "    association_rules = []\n",
    "    frequent_item_count = 0\n",
    "    level = 0\n",
    "    # Get all items into one set\n",
    "    all_itemset = set()\n",
    "    for key in basket:\n",
    "        all_itemset = all_itemset.union(basket[key])\n",
    "    item_tuples = [ (item,) for item in all_itemset ]\n",
    "    \n",
    "    frequent_items = getFrequentItems(item_tuples,min_sup,basket,itemset)\n",
    "    #itemset.append(frequent_items)\n",
    "    level+=1\n",
    "    print(len(frequent_items),'itemset')\n",
    "    print(frequent_items)\n",
    "    print()\n",
    "    frequent_item_count+=len(frequent_items)    \n",
    "    while len(frequent_items) > 0:\n",
    " \n",
    "        # Extract all subsets with higher value of support than min support\n",
    "        combo = getCombinations(frequent_items, level)\n",
    "        level+=1\n",
    "        #Calculate frequent itemset\n",
    "        frequent_items = getFrequentItems(combo,min_sup,basket,itemset)\n",
    "        print(len(frequent_items),'itemset')\n",
    "        #itemset.append(frequent_items)\n",
    "        print(frequent_items)\n",
    "        print()\n",
    "        frequent_item_count+=len(frequent_items)\n",
    "        #find association rules form support\n",
    "        findRules(frequent_items, association_rules,basket)\n",
    "    \n",
    "    print('Frequent itemset count:',frequent_item_count)\n",
    "    return association_rules\n",
    "\n",
    "association_rules = apriori(baskets,min_sup,itemset_whole)\n",
    "\n",
    "print('Association Rules:', association_rules)    \n",
    "\n"
   ]
  },
  {
   "cell_type": "markdown",
   "metadata": {
    "id": "Ea6GbdOOBZOY"
   },
   "source": [
    "### (5pts) Step 2: Print Your Association Rules\n",
    "\n",
    "Next you should print your final association rules in the following format:\n",
    "\n",
    "**movie_name_1, movie_name_2, ... --> \n",
    "movie_name_k**\n",
    "\n",
    "where the movie names can be fetched by joining the movieId with the file `movies.csv`. For example, one rule that you might find is:\n",
    "\n",
    "**Matrix, The (1999),  Star Wars: Episode V - The Empire Strikes Back (1980),  Star Wars: Episode IV - A New Hope (1977),  -> \n",
    "Star Wars: Episode VI - Return of the Jedi (1983)**"
   ]
  },
  {
   "cell_type": "code",
   "execution_count": 18,
   "metadata": {
    "scrolled": false
   },
   "outputs": [
    {
     "name": "stdout",
     "output_type": "stream",
     "text": [
      "Star Wars: Episode V - The Empire Strikes Back (1980)-->Star Wars: Episode IV - A New Hope (1977)\n",
      "Lord of the Rings: The Fellowship of the Ring, The (2001),Lord of the Rings: The Return of the King, The (2003)-->Lord of the Rings: The Two Towers, The (2002)\n",
      "Lord of the Rings: The Two Towers, The (2002),Lord of the Rings: The Return of the King, The (2003)-->Lord of the Rings: The Fellowship of the Ring, The (2001)\n",
      "Lord of the Rings: The Two Towers, The (2002),Lord of the Rings: The Fellowship of the Ring, The (2001)-->Lord of the Rings: The Return of the King, The (2003)\n",
      "Matrix, The (1999),Star Wars: Episode V - The Empire Strikes Back (1980)-->Star Wars: Episode IV - A New Hope (1977)\n",
      "Star Wars: Episode VI - Return of the Jedi (1983),Star Wars: Episode V - The Empire Strikes Back (1980)-->Star Wars: Episode IV - A New Hope (1977)\n",
      "Pulp Fiction (1994),Jurassic Park (1993)-->Forrest Gump (1994)\n"
     ]
    }
   ],
   "source": [
    "df = pd.read_csv('movies.csv')\n",
    "\n",
    "df.head()\n",
    "\n",
    "new_association_rules = []\n",
    "for rule in association_rules:\n",
    "    # rule: ({movies}, movie)\n",
    "    movie_names = { df.loc[df['movieId'] == movieId]['title'].values[0] for movieId in rule[0] }\n",
    "    new_association_rules.append(','.join(movie_names)+'-->'+df.loc[df['movieId'] == rule[1]]['title'].values[0])\n",
    "    \n",
    "\n",
    "for rule in new_association_rules:\n",
    "    print(rule)"
   ]
  },
  {
   "cell_type": "markdown",
   "metadata": {
    "id": "FfeufQAxNB82"
   },
   "source": [
    "### (15pts) Step 3: Implement Random Sampling\n",
    "\n",
    "We discussed in class a method to randomly sample baskets to avoid the overhead of reading the entire set of baskets (which in practice, could amount to billions of baskets). For this part, you should implement such a random sampling approach that takes a special parameter **alpha** that controls the size of the sample: e.g., alpha = 0.10 means to sample 10% of the baskets (our users, in this case). \n",
    "\n",
    "Vary **alpha** and report the number of frequent itemsets you find and how this compares to the number of frequent itemsets in the entire dataset. What do you discover?\n"
   ]
  },
  {
   "cell_type": "code",
   "execution_count": 19,
   "metadata": {
    "id": "bslz87rc9kET",
    "scrolled": true
   },
   "outputs": [
    {
     "name": "stdout",
     "output_type": "stream",
     "text": [
      "42 itemset\n",
      "[(1.0,), (32.0,), (47.0,), (50.0,), (110.0,), (150.0,), (260.0,), (296.0,), (318.0,), (344.0,), (356.0,), (364.0,), (377.0,), (380.0,), (457.0,), (480.0,), (527.0,), (588.0,), (589.0,), (590.0,), (592.0,), (593.0,), (608.0,), (648.0,), (780.0,), (858.0,), (1196.0,), (1198.0,), (1210.0,), (1270.0,), (1580.0,), (2028.0,), (2571.0,), (2762.0,), (2858.0,), (2959.0,), (3578.0,), (4226.0,), (4306.0,), (4993.0,), (5952.0,), (7153.0,)]\n",
      "\n",
      "42 itemset\n",
      "[(1.0,), (4226.0,), (4993.0,), (260.0,), (648.0,), (2571.0,), (780.0,), (527.0,), (2959.0,), (150.0,), (32.0,), (296.0,), (2858.0,), (1196.0,), (1580.0,), (1198.0,), (47.0,), (50.0,), (1210.0,), (318.0,), (5952.0,), (457.0,), (2762.0,), (588.0,), (589.0,), (590.0,), (592.0,), (593.0,), (4306.0,), (344.0,), (858.0,), (480.0,), (608.0,), (356.0,), (364.0,), (2028.0,), (110.0,), (7153.0,), (1270.0,), (377.0,), (3578.0,), (380.0,)]\n",
      "\n",
      "39 itemset\n",
      "[(4993.0, 5952.0), (4993.0, 7153.0), (260.0, 2571.0), (260.0, 1196.0), (260.0, 1198.0), (260.0, 1210.0), (260.0, 356.0), (2571.0, 2959.0), (2571.0, 296.0), (2571.0, 1196.0), (2571.0, 318.0), (2571.0, 593.0), (2571.0, 356.0), (527.0, 318.0), (527.0, 356.0), (2959.0, 318.0), (2959.0, 356.0), (150.0, 356.0), (296.0, 47.0), (296.0, 50.0), (296.0, 318.0), (296.0, 589.0), (296.0, 593.0), (296.0, 480.0), (296.0, 356.0), (296.0, 110.0), (1196.0, 1210.0), (47.0, 356.0), (50.0, 318.0), (318.0, 593.0), (318.0, 356.0), (318.0, 110.0), (5952.0, 7153.0), (589.0, 480.0), (589.0, 356.0), (593.0, 356.0), (480.0, 356.0), (480.0, 110.0), (356.0, 110.0)]\n",
      "\n",
      "4 itemset\n",
      "[(260.0, 2571.0, 1196.0), (296.0, 318.0, 593.0), (296.0, 318.0, 356.0), (296.0, 593.0, 356.0)]\n",
      "\n",
      "0 itemset\n",
      "[]\n",
      "\n",
      "Frequent itemset count: 127\n"
     ]
    },
    {
     "data": {
      "text/plain": [
       "[({1196.0}, 260.0), ({1196.0, 2571.0}, 260.0)]"
      ]
     },
     "execution_count": 19,
     "metadata": {},
     "output_type": "execute_result"
    }
   ],
   "source": [
    "import random\n",
    "\n",
    "def random_sampling(percent,df):\n",
    "    a = df['userId'].unique()\n",
    "    alpha = len(a)*percent\n",
    "    #print(len(df['userId']))\n",
    "    unique_id = random.sample(list(a),int(alpha))\n",
    "    #print(unique_id)\n",
    "    new_df = df.loc[df['userId'].isin(unique_id)]\n",
    "    #print(new_df)\n",
    "    return new_df\n",
    "\n",
    "new_df = random_sampling(0.05,allRatings)\n",
    "new_basket = create_basket(allRatings)\n",
    "\n",
    "sampling_itemset = []\n",
    "apriori(new_basket,0.25,sampling_itemset)"
   ]
  },
  {
   "cell_type": "markdown",
   "metadata": {
    "id": "rIBMkM-W-8Tn"
   },
   "source": [
    "The number of frequent itemsets decreased for values of alpha <=5%. However for values of alpha > 5%, the number of frequent itemsets is same as the original dataset. However it did'nt decreased much.\n",
    "Frequent itemset in original dataset = 142\n",
    "\n",
    "For alpha = 0.05, count = 127\n",
    "\n",
    "   alpha = 0.02, count = 125"
   ]
  },
  {
   "cell_type": "markdown",
   "metadata": {
    "id": "wLNDiFDrI2-2"
   },
   "source": [
    "### (10pts) Step 4: Check for False Positives\n",
    "\n",
    "Next you should verify that the candidate pairs you discover by random sampling are truly frequent by comparing to the itemsets you discover over the entire dataset. \n",
    "\n",
    "For this part, consider another parameter **minsup_sample** that relaxes the minimum support threshold. For example if we want minsup = 1/100 for whole dataset, then try minsup_sample = 1/125 for the sample. This will help catch truly frequent itemsets.\n",
    "\n",
    "Vary **minsup_sample** and report the number of frequent itemsets you find and the number of false positives you find. What do you discover?\n"
   ]
  },
  {
   "cell_type": "code",
   "execution_count": 20,
   "metadata": {
    "id": "R8gtIPuf_82B"
   },
   "outputs": [
    {
     "name": "stdout",
     "output_type": "stream",
     "text": [
      "62 itemset\n",
      "[(1.0,), (32.0,), (47.0,), (50.0,), (110.0,), (150.0,), (153.0,), (165.0,), (260.0,), (296.0,), (316.0,), (318.0,), (344.0,), (356.0,), (364.0,), (367.0,), (377.0,), (380.0,), (457.0,), (480.0,), (500.0,), (527.0,), (588.0,), (589.0,), (590.0,), (592.0,), (593.0,), (595.0,), (597.0,), (608.0,), (648.0,), (780.0,), (858.0,), (1036.0,), (1136.0,), (1196.0,), (1197.0,), (1198.0,), (1210.0,), (1214.0,), (1265.0,), (1270.0,), (1291.0,), (1580.0,), (1704.0,), (1721.0,), (2028.0,), (2571.0,), (2628.0,), (2762.0,), (2858.0,), (2959.0,), (3578.0,), (4226.0,), (4306.0,), (4993.0,), (5952.0,), (6377.0,), (6539.0,), (7153.0,), (79132.0,), (58559.0,)]\n",
      "\n",
      "62 itemset\n",
      "[(1.0,), (4226.0,), (4993.0,), (260.0,), (648.0,), (1291.0,), (780.0,), (1036.0,), (2571.0,), (527.0,), (2959.0,), (6539.0,), (150.0,), (153.0,), (79132.0,), (32.0,), (165.0,), (296.0,), (1704.0,), (2858.0,), (1196.0,), (1197.0,), (1198.0,), (47.0,), (1580.0,), (50.0,), (1721.0,), (1210.0,), (316.0,), (318.0,), (1214.0,), (5952.0,), (58559.0,), (2628.0,), (457.0,), (2762.0,), (588.0,), (589.0,), (590.0,), (592.0,), (593.0,), (4306.0,), (595.0,), (597.0,), (344.0,), (858.0,), (480.0,), (608.0,), (356.0,), (6377.0,), (364.0,), (2028.0,), (110.0,), (367.0,), (1136.0,), (1265.0,), (7153.0,), (500.0,), (1270.0,), (377.0,), (3578.0,), (380.0,)]\n",
      "\n",
      "118 itemset\n",
      "[(1.0, 296.0), (1.0, 318.0), (1.0, 356.0), (4993.0, 2571.0), (4993.0, 2959.0), (4993.0, 318.0), (4993.0, 5952.0), (4993.0, 356.0), (4993.0, 7153.0), (260.0, 780.0), (260.0, 2571.0), (260.0, 296.0), (260.0, 1196.0), (260.0, 1198.0), (260.0, 1210.0), (260.0, 318.0), (260.0, 589.0), (260.0, 593.0), (260.0, 480.0), (260.0, 356.0), (780.0, 296.0), (780.0, 480.0), (780.0, 356.0), (2571.0, 2959.0), (2571.0, 296.0), (2571.0, 2858.0), (2571.0, 1196.0), (2571.0, 1198.0), (2571.0, 1210.0), (2571.0, 318.0), (2571.0, 5952.0), (2571.0, 2762.0), (2571.0, 589.0), (2571.0, 593.0), (2571.0, 858.0), (2571.0, 356.0), (2571.0, 2028.0), (2571.0, 110.0), (2571.0, 7153.0), (2571.0, 3578.0), (527.0, 296.0), (527.0, 318.0), (527.0, 593.0), (527.0, 356.0), (2959.0, 296.0), (2959.0, 318.0), (2959.0, 593.0), (2959.0, 356.0), (150.0, 296.0), (150.0, 318.0), (150.0, 480.0), (150.0, 356.0), (296.0, 2858.0), (296.0, 1196.0), (296.0, 47.0), (296.0, 50.0), (296.0, 318.0), (296.0, 457.0), (296.0, 589.0), (296.0, 590.0), (296.0, 592.0), (296.0, 593.0), (296.0, 480.0), (296.0, 608.0), (296.0, 356.0), (296.0, 110.0), (296.0, 380.0), (2858.0, 593.0), (2858.0, 356.0), (1196.0, 1198.0), (1196.0, 1210.0), (1196.0, 593.0), (1196.0, 356.0), (47.0, 318.0), (47.0, 593.0), (47.0, 356.0), (50.0, 318.0), (50.0, 593.0), (50.0, 356.0), (1210.0, 356.0), (318.0, 457.0), (318.0, 589.0), (318.0, 593.0), (318.0, 858.0), (318.0, 480.0), (318.0, 356.0), (318.0, 110.0), (318.0, 7153.0), (5952.0, 7153.0), (457.0, 589.0), (457.0, 593.0), (457.0, 480.0), (457.0, 356.0), (457.0, 110.0), (2762.0, 356.0), (588.0, 356.0), (589.0, 592.0), (589.0, 593.0), (589.0, 480.0), (589.0, 356.0), (589.0, 110.0), (592.0, 480.0), (592.0, 356.0), (592.0, 380.0), (593.0, 480.0), (593.0, 356.0), (593.0, 110.0), (480.0, 356.0), (480.0, 110.0), (480.0, 377.0), (356.0, 364.0), (356.0, 2028.0), (356.0, 110.0), (356.0, 7153.0), (356.0, 500.0), (356.0, 1270.0), (356.0, 377.0), (356.0, 380.0)]\n",
      "\n",
      "31 itemset\n",
      "[(4993.0, 2571.0, 5952.0), (4993.0, 2571.0, 7153.0), (4993.0, 5952.0, 7153.0), (260.0, 2571.0, 1196.0), (260.0, 2571.0, 1210.0), (260.0, 1196.0, 1198.0), (260.0, 1196.0, 1210.0), (260.0, 1196.0, 356.0), (2571.0, 2959.0, 296.0), (2571.0, 2959.0, 318.0), (2571.0, 2959.0, 356.0), (2571.0, 296.0, 356.0), (2571.0, 1196.0, 1210.0), (2571.0, 318.0, 356.0), (296.0, 47.0, 318.0), (296.0, 47.0, 593.0), (296.0, 47.0, 356.0), (296.0, 50.0, 318.0), (296.0, 318.0, 593.0), (296.0, 318.0, 356.0), (296.0, 318.0, 110.0), (296.0, 589.0, 356.0), (296.0, 593.0, 356.0), (296.0, 480.0, 356.0), (296.0, 356.0, 110.0), (318.0, 593.0, 356.0), (318.0, 480.0, 356.0), (318.0, 356.0, 110.0), (589.0, 480.0, 356.0), (593.0, 480.0, 356.0), (480.0, 356.0, 110.0)]\n",
      "\n",
      "2 itemset\n",
      "[(260.0, 2571.0, 1196.0, 1210.0), (356.0, 296.0, 593.0, 318.0)]\n",
      "\n",
      "0 itemset\n",
      "[]\n",
      "\n",
      "Frequent itemset count: 275\n"
     ]
    },
    {
     "data": {
      "text/plain": [
       "[({1196.0}, 260.0),\n",
       " ({500.0}, 356.0),\n",
       " ({2571.0, 5952.0}, 4993.0),\n",
       " ({2571.0, 7153.0}, 4993.0),\n",
       " ({4993.0, 7153.0}, 5952.0),\n",
       " ({5952.0, 7153.0}, 4993.0),\n",
       " ({4993.0, 5952.0}, 7153.0),\n",
       " ({1196.0, 2571.0}, 260.0),\n",
       " ({1210.0, 2571.0}, 260.0),\n",
       " ({1196.0, 1198.0}, 260.0),\n",
       " ({1196.0, 1210.0}, 260.0),\n",
       " ({356.0, 1196.0}, 260.0),\n",
       " ({356.0, 2959.0}, 2571.0),\n",
       " ({1210.0, 2571.0}, 1196.0),\n",
       " ({47.0, 318.0}, 296.0),\n",
       " ({47.0, 593.0}, 296.0),\n",
       " ({296.0, 480.0}, 356.0),\n",
       " ({318.0, 480.0}, 356.0),\n",
       " ({260.0, 1210.0, 2571.0}, 1196.0),\n",
       " ({1196.0, 1210.0, 2571.0}, 260.0)]"
      ]
     },
     "execution_count": 20,
     "metadata": {},
     "output_type": "execute_result"
    }
   ],
   "source": [
    "# your code here\n",
    "min_sup_itemset = []\n",
    "apriori(new_basket,0.22,min_sup_itemset)\n",
    "\n"
   ]
  },
  {
   "cell_type": "code",
   "execution_count": 22,
   "metadata": {},
   "outputs": [
    {
     "name": "stdout",
     "output_type": "stream",
     "text": [
      "Number of false positive sets: 129\n"
     ]
    }
   ],
   "source": [
    "#function to calculate frequency itemset present in sample dataset and not in whole dataset\n",
    "def find_false_positive():\n",
    "    res = []\n",
    "    for i in min_sup_itemset:\n",
    "        if i not in itemset_whole:\n",
    "            res.append(i)\n",
    "    print(\"Number of false positive sets:\",len(res))\n",
    "\n",
    "    \n",
    "\n",
    "find_false_positive()  \n",
    "\n"
   ]
  },
  {
   "cell_type": "markdown",
   "metadata": {
    "id": "tgpWjmXh_91h"
   },
   "source": [
    "*By reducing the value of minimum support, the number of false positive frequency sets decreased*\n",
    "\n",
    "*for minsup_sample = 0.2,alpha = 0.05,number of frequency sets = 497, number of false positive = 20*"
   ]
  },
  {
   "cell_type": "markdown",
   "metadata": {
    "id": "Wt4JCrwcAHal"
   },
   "source": [
    "### (5pts) Step 5: Extensions and Next Steps\n",
    "\n",
    "So far, we have been working with a fairly small dataset. For this last question, try your sampling-based approach on the much larger: **Movies 10M** dataset: https://files.grouplens.org/datasets/movielens/ml-10m.zip\n",
    "\n",
    "First, we need to load this larger dataset:"
   ]
  },
  {
   "cell_type": "code",
   "execution_count": 23,
   "metadata": {
    "id": "iG7qBkj7AVou"
   },
   "outputs": [
    {
     "name": "stderr",
     "output_type": "stream",
     "text": [
      "/Library/Frameworks/Python.framework/Versions/3.7/lib/python3.7/site-packages/urllib3/connectionpool.py:847: InsecureRequestWarning: Unverified HTTPS request is being made. Adding certificate verification is strongly advised. See: https://urllib3.readthedocs.io/en/latest/advanced-usage.html#ssl-warnings\n",
      "  InsecureRequestWarning)\n"
     ]
    }
   ],
   "source": [
    "import urllib3\n",
    "import zipfile\n",
    "\n",
    "http = urllib3.PoolManager()\n",
    "req = http.request(\"GET\", \"https://files.grouplens.org/datasets/movielens/ml-10m.zip\", preload_content=False)\n",
    "\n",
    "with open(\"movie.zip\", 'wb') as out:\n",
    "  while True:\n",
    "    data = req.read(4096)\n",
    "    if not data:\n",
    "      break\n",
    "    out.write(data)\n",
    "req.release_conn()\n",
    "\n",
    "zFile = zipfile.ZipFile(\"movie.zip\", \"r\")\n",
    "for fileM in zFile.namelist():\n",
    "  zFile.extract(fileM)"
   ]
  },
  {
   "cell_type": "code",
   "execution_count": 24,
   "metadata": {
    "id": "6Hi45CqJht7n"
   },
   "outputs": [
    {
     "name": "stdout",
     "output_type": "stream",
     "text": [
      "README.html      movies.dat       split_ratings.sh\r\n",
      "allbut.pl        ratings.dat      tags.dat\r\n"
     ]
    }
   ],
   "source": [
    "! ls ml-10M100K/"
   ]
  },
  {
   "cell_type": "code",
   "execution_count": 25,
   "metadata": {
    "id": "V_jdR72WiR2F"
   },
   "outputs": [
    {
     "data": {
      "text/html": [
       "<div>\n",
       "<style scoped>\n",
       "    .dataframe tbody tr th:only-of-type {\n",
       "        vertical-align: middle;\n",
       "    }\n",
       "\n",
       "    .dataframe tbody tr th {\n",
       "        vertical-align: top;\n",
       "    }\n",
       "\n",
       "    .dataframe thead th {\n",
       "        text-align: right;\n",
       "    }\n",
       "</style>\n",
       "<table border=\"1\" class=\"dataframe\">\n",
       "  <thead>\n",
       "    <tr style=\"text-align: right;\">\n",
       "      <th></th>\n",
       "      <th>userId</th>\n",
       "      <th>movieId</th>\n",
       "      <th>rating</th>\n",
       "      <th>timestamp</th>\n",
       "    </tr>\n",
       "  </thead>\n",
       "  <tbody>\n",
       "    <tr>\n",
       "      <th>0</th>\n",
       "      <td>1</td>\n",
       "      <td>122</td>\n",
       "      <td>5.0</td>\n",
       "      <td>838985046</td>\n",
       "    </tr>\n",
       "    <tr>\n",
       "      <th>1</th>\n",
       "      <td>1</td>\n",
       "      <td>185</td>\n",
       "      <td>5.0</td>\n",
       "      <td>838983525</td>\n",
       "    </tr>\n",
       "    <tr>\n",
       "      <th>2</th>\n",
       "      <td>1</td>\n",
       "      <td>231</td>\n",
       "      <td>5.0</td>\n",
       "      <td>838983392</td>\n",
       "    </tr>\n",
       "    <tr>\n",
       "      <th>3</th>\n",
       "      <td>1</td>\n",
       "      <td>292</td>\n",
       "      <td>5.0</td>\n",
       "      <td>838983421</td>\n",
       "    </tr>\n",
       "    <tr>\n",
       "      <th>4</th>\n",
       "      <td>1</td>\n",
       "      <td>316</td>\n",
       "      <td>5.0</td>\n",
       "      <td>838983392</td>\n",
       "    </tr>\n",
       "    <tr>\n",
       "      <th>...</th>\n",
       "      <td>...</td>\n",
       "      <td>...</td>\n",
       "      <td>...</td>\n",
       "      <td>...</td>\n",
       "    </tr>\n",
       "    <tr>\n",
       "      <th>10000049</th>\n",
       "      <td>71567</td>\n",
       "      <td>2107</td>\n",
       "      <td>1.0</td>\n",
       "      <td>912580553</td>\n",
       "    </tr>\n",
       "    <tr>\n",
       "      <th>10000050</th>\n",
       "      <td>71567</td>\n",
       "      <td>2126</td>\n",
       "      <td>2.0</td>\n",
       "      <td>912649143</td>\n",
       "    </tr>\n",
       "    <tr>\n",
       "      <th>10000051</th>\n",
       "      <td>71567</td>\n",
       "      <td>2294</td>\n",
       "      <td>5.0</td>\n",
       "      <td>912577968</td>\n",
       "    </tr>\n",
       "    <tr>\n",
       "      <th>10000052</th>\n",
       "      <td>71567</td>\n",
       "      <td>2338</td>\n",
       "      <td>2.0</td>\n",
       "      <td>912578016</td>\n",
       "    </tr>\n",
       "    <tr>\n",
       "      <th>10000053</th>\n",
       "      <td>71567</td>\n",
       "      <td>2384</td>\n",
       "      <td>2.0</td>\n",
       "      <td>912578173</td>\n",
       "    </tr>\n",
       "  </tbody>\n",
       "</table>\n",
       "<p>10000054 rows × 4 columns</p>\n",
       "</div>"
      ],
      "text/plain": [
       "          userId  movieId  rating  timestamp\n",
       "0              1      122     5.0  838985046\n",
       "1              1      185     5.0  838983525\n",
       "2              1      231     5.0  838983392\n",
       "3              1      292     5.0  838983421\n",
       "4              1      316     5.0  838983392\n",
       "...          ...      ...     ...        ...\n",
       "10000049   71567     2107     1.0  912580553\n",
       "10000050   71567     2126     2.0  912649143\n",
       "10000051   71567     2294     5.0  912577968\n",
       "10000052   71567     2338     2.0  912578016\n",
       "10000053   71567     2384     2.0  912578173\n",
       "\n",
       "[10000054 rows x 4 columns]"
      ]
     },
     "execution_count": 25,
     "metadata": {},
     "output_type": "execute_result"
    }
   ],
   "source": [
    "import pandas as pd\n",
    "# read user ratings\n",
    "allRating = pd.read_csv(\"ml-10M100K/ratings.dat\",sep='::', names=[\"userId\", \"movieId\", \"rating\", \"timestamp\"], engine='python')\n",
    "allRating"
   ]
  },
  {
   "cell_type": "markdown",
   "metadata": {
    "id": "WEX9wu7ewIqb"
   },
   "source": [
    "Now you can begin your sampling over this larger dataset."
   ]
  },
  {
   "cell_type": "code",
   "execution_count": 26,
   "metadata": {
    "id": "VYRlIEyulq2X"
   },
   "outputs": [
    {
     "name": "stdout",
     "output_type": "stream",
     "text": [
      "31 itemset\n",
      "[(1.0,), (32.0,), (47.0,), (50.0,), (110.0,), (150.0,), (260.0,), (296.0,), (318.0,), (344.0,), (356.0,), (364.0,), (377.0,), (380.0,), (457.0,), (480.0,), (527.0,), (588.0,), (589.0,), (590.0,), (592.0,), (593.0,), (608.0,), (648.0,), (780.0,), (1196.0,), (1198.0,), (1210.0,), (1270.0,), (2571.0,), (2858.0,)]\n",
      "\n",
      "31 itemset\n",
      "[(1.0,), (260.0,), (648.0,), (2571.0,), (780.0,), (527.0,), (150.0,), (32.0,), (296.0,), (2858.0,), (1196.0,), (1198.0,), (47.0,), (50.0,), (1210.0,), (318.0,), (457.0,), (588.0,), (589.0,), (590.0,), (592.0,), (593.0,), (344.0,), (480.0,), (608.0,), (356.0,), (364.0,), (110.0,), (1270.0,), (377.0,), (380.0,)]\n",
      "\n",
      "16 itemset\n",
      "[(296.0, 318.0), (296.0, 457.0), (296.0, 593.0), (296.0, 480.0), (296.0, 356.0), (318.0, 593.0), (318.0, 356.0), (457.0, 593.0), (457.0, 480.0), (457.0, 356.0), (589.0, 480.0), (589.0, 356.0), (593.0, 480.0), (593.0, 356.0), (480.0, 356.0), (356.0, 110.0)]\n",
      "\n",
      "0 itemset\n",
      "[]\n",
      "\n",
      "Frequent itemset count: 78\n"
     ]
    },
    {
     "data": {
      "text/plain": [
       "[]"
      ]
     },
     "execution_count": 26,
     "metadata": {},
     "output_type": "execute_result"
    }
   ],
   "source": [
    "# your code here\n",
    "big_df = random_sampling(0.5,allRating)\n",
    "big_basket = create_basket(allRating)\n",
    "frequency_set = []\n",
    "apriori(big_basket,0.3,frequency_set)"
   ]
  },
  {
   "cell_type": "markdown",
   "metadata": {
    "id": "FX3LDkfAlpyg"
   },
   "source": [
    "*Since the dataset was quite big. It took more time to get all the frequent itemsets*"
   ]
  },
  {
   "cell_type": "code",
   "execution_count": null,
   "metadata": {},
   "outputs": [],
   "source": []
  }
 ],
 "metadata": {
  "colab": {
   "collapsed_sections": [],
   "name": "homework_1.ipynb",
   "provenance": []
  },
  "kernelspec": {
   "display_name": "Python 3",
   "language": "python",
   "name": "python3"
  },
  "language_info": {
   "codemirror_mode": {
    "name": "ipython",
    "version": 3
   },
   "file_extension": ".py",
   "mimetype": "text/x-python",
   "name": "python",
   "nbconvert_exporter": "python",
   "pygments_lexer": "ipython3",
   "version": "3.7.4"
  }
 },
 "nbformat": 4,
 "nbformat_minor": 1
}
